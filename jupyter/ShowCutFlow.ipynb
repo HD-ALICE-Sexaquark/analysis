{
 "cells": [
  {
   "cell_type": "code",
   "execution_count": 1,
   "metadata": {},
   "outputs": [],
   "source": [
    "import uproot\n",
    "import numpy as np\n",
    "import matplotlib.pyplot as plt"
   ]
  },
  {
   "cell_type": "code",
   "execution_count": 5,
   "metadata": {},
   "outputs": [],
   "source": [
    "# open a root file and make an array of all TH1F within a TList\n",
    "# filename = \"../sexaquark/attempts/local_signalMC_18qr_test_kalmanE1.8/AnalysisResults.root\" # signal + bkg sim\n",
    "filename = \"../sexaquark/attempts/local_bkgMC_15o_test_kalmanA1.8/AnalysisResults.root\" # bkg sim\n",
    "file = uproot.open(filename)\n",
    "tracks_histograms = file[\"Tracks_Hists/\"]\n",
    "v0s_histograms = file[\"V0s_Hists/\"]\n",
    "sexaquarks_histograms = file[\"Sexaquarks_Hists/\"]\n",
    "\n",
    "# map names to histograms\n",
    "tracks_hist_dict = {hist.name: hist for hist in tracks_histograms}\n",
    "v0s_hist_dict = {hist.name: hist for hist in v0s_histograms}\n",
    "sexaquarks_hist_dict = {hist.name: hist for hist in sexaquarks_histograms}\n",
    "\n",
    "colors = plt.rcParams['axes.prop_cycle'].by_key()['color']"
   ]
  },
  {
   "cell_type": "markdown",
   "metadata": {},
   "source": [
    "### Tracks"
   ]
  },
  {
   "cell_type": "code",
   "execution_count": null,
   "metadata": {},
   "outputs": [],
   "source": [
    "def plot_tracks_bookkeep(particle_name):\n",
    "    plt.figure(figsize=(10, 8))\n",
    "    hist_name = f\"{particle_name}_Bookkeep\"\n",
    "    values, edges = tracks_hist_dict[hist_name].to_numpy()\n",
    "    n_xbins = len(edges) - 1\n",
    "    plt.hist(edges[:-1], edges, weights=values, alpha=0.5, label=hist_name, histtype='bar', edgecolor=colors[0], linewidth=2)\n",
    "    plt.yscale('log')\n",
    "    plt.ylim(top=5*np.max(values))\n",
    "    tick_positions = [i + 0.5 for i in range(n_xbins)]\n",
    "    meaning = {0: \"mc gen.\",\n",
    "               10: \"secondary mc gen.\",\n",
    "               20: \"signal mc gen.\",\n",
    "               30: \"effect of cuts on found\",\n",
    "               50: \"found tracks that passed all cuts\",\n",
    "               60: \"effect of cuts on true tracks\",\n",
    "               80: \"found true tracks that passed all cuts\",\n",
    "               90: \"effect of cuts on secondary tracks\",\n",
    "               110: \"found secondary tracks that passed all cuts\",\n",
    "               120: \"effect of cuts on signal tracks\",\n",
    "               140: \"found signal tracks that passed all cuts\"}\n",
    "    tick_labels = [meaning[int(i)] if i in meaning else \"\" for i in range(n_xbins)]\n",
    "    plt.xticks(tick_positions, tick_labels, rotation=90)\n",
    "    for key in meaning.keys():\n",
    "        if values[key] > 0:\n",
    "            plt.text(key, values[key], f\"{values[key]:.0f}\", ha='center', va='bottom', fontsize='small')\n",
    "    plt.legend()\n",
    "    plt.tight_layout()\n",
    "    plt.show()"
   ]
  },
  {
   "cell_type": "code",
   "execution_count": null,
   "metadata": {},
   "outputs": [],
   "source": [
    "plot_tracks_bookkeep(\"AntiProton\")"
   ]
  },
  {
   "cell_type": "code",
   "execution_count": null,
   "metadata": {},
   "outputs": [],
   "source": [
    "plot_tracks_bookkeep(\"PiPlus\")"
   ]
  },
  {
   "cell_type": "code",
   "execution_count": null,
   "metadata": {},
   "outputs": [],
   "source": [
    "plot_tracks_bookkeep(\"PiMinus\")"
   ]
  },
  {
   "cell_type": "code",
   "execution_count": null,
   "metadata": {},
   "outputs": [],
   "source": [
    "plot_tracks_bookkeep(\"PosKaon\")"
   ]
  },
  {
   "cell_type": "markdown",
   "metadata": {},
   "source": [
    "### V0s"
   ]
  },
  {
   "cell_type": "code",
   "execution_count": 8,
   "metadata": {},
   "outputs": [],
   "source": [
    "def plot_v0s_bookkeep(v0_name):\n",
    "    plt.figure(figsize=(10, 8))\n",
    "    hist_name = f\"{v0_name}_Bookkeep\"\n",
    "    values, edges = v0s_hist_dict[hist_name].to_numpy()\n",
    "    n_xbins = len(edges) - 1\n",
    "    plt.hist(edges[:-1], edges, weights=values, alpha=0.5, label=hist_name, histtype='bar', edgecolor=colors[0], linewidth=2)\n",
    "    plt.yscale('log')\n",
    "    plt.ylim(top=5*np.max(values))\n",
    "    tick_positions = [i + 0.5 for i in range(n_xbins)]\n",
    "    meaning = {0: \"mc gen.\",\n",
    "               10: \"secondary mc gen.\",\n",
    "               20: \"signal mc gen.\",\n",
    "               30: \"findable true V0s\",\n",
    "               40: \"findable true secondary V0s\",\n",
    "               50: \"findable signal V0s\",\n",
    "               60: \"effect of cuts on found\",\n",
    "               80: \"found V0s that passed all cuts\",\n",
    "               90: \"effect of cuts on true V0s\",\n",
    "               110: \"found true V0s that passed all cuts\",\n",
    "               120: \"effect of cuts on secondary V0s\",\n",
    "               140: \"found secondary V0s that passed all cuts\",\n",
    "               150: \"effect of cuts on signal V0s\",\n",
    "               170: \"found signal V0s that passed all cuts\"}\n",
    "    tick_labels = [meaning[int(i)] if i in meaning else \"\" for i in range(n_xbins)]\n",
    "    plt.xticks(tick_positions, tick_labels, rotation=90)\n",
    "    for key in meaning.keys():\n",
    "        if values[key] > 0:\n",
    "            plt.text(key, values[key], f\"{values[key]:.0f}\", ha='center', va='bottom', fontsize='small')\n",
    "    plt.legend()\n",
    "    plt.tight_layout()\n",
    "    plt.show()"
   ]
  },
  {
   "cell_type": "code",
   "execution_count": null,
   "metadata": {},
   "outputs": [],
   "source": [
    "plot_v0s_bookkeep(\"AntiLambda\")"
   ]
  },
  {
   "cell_type": "code",
   "execution_count": null,
   "metadata": {},
   "outputs": [],
   "source": [
    "plot_v0s_bookkeep(\"PionPair\")"
   ]
  },
  {
   "cell_type": "code",
   "execution_count": null,
   "metadata": {},
   "outputs": [],
   "source": [
    "plot_v0s_bookkeep(\"KaonZeroShort\")"
   ]
  },
  {
   "cell_type": "markdown",
   "metadata": {},
   "source": [
    "### Anti-Sexaquark Candidates"
   ]
  },
  {
   "cell_type": "code",
   "execution_count": null,
   "metadata": {},
   "outputs": [],
   "source": [
    "def plot_antisexaquarks_bookkeep():\n",
    "    plt.figure(figsize=(10, 8))\n",
    "    hist_name = \"AntiSexaquarks_Bookkeep\"\n",
    "    values, edges = sexaquarks_hist_dict[hist_name].to_numpy()\n",
    "    n_xbins = len(edges) - 1\n",
    "    plt.hist(edges[:-1], edges, weights=values, alpha=0.5, label=hist_name, histtype='bar', edgecolor=colors[0], linewidth=2)\n",
    "    plt.yscale('log')\n",
    "    plt.ylim(top=5*np.max(values))\n",
    "    tick_positions = [i + 0.5 for i in range(n_xbins)]\n",
    "    meaning = {0: \"mc gen.\",\n",
    "               10: \"findable\",\n",
    "               20: \"effect of cuts on found candidates\",\n",
    "               50: \"found candidates that passed all cuts\",\n",
    "               60: \"effect of cuts on signal candidates\",\n",
    "               90: \"found signal candidates that passed all cuts\"}\n",
    "    tick_labels = [meaning[int(i)] if i in meaning else \"\" for i in range(n_xbins)]\n",
    "    plt.xticks(tick_positions, tick_labels, rotation=90)\n",
    "    for i, value in enumerate(values):\n",
    "        if tick_labels[i] != \"\":\n",
    "            plt.text(tick_positions[i], value, f\"{value:.0f}\", ha='center', va='bottom', fontsize='small')\n",
    "    plt.legend()\n",
    "    plt.tight_layout()\n",
    "    plt.show()"
   ]
  },
  {
   "cell_type": "code",
   "execution_count": null,
   "metadata": {},
   "outputs": [],
   "source": [
    "plot_antisexaquarks_bookkeep()"
   ]
  },
  {
   "cell_type": "code",
   "execution_count": null,
   "metadata": {},
   "outputs": [],
   "source": [
    "def plot_mass():\n",
    "    particles = [\"AntiLambda\", \"KaonZeroShort\"]\n",
    "    x_titles = [r\"$m(\\bar{p},\\pi^+)$ GeV/$c^{2}$\", r\"$m(\\pi^-,\\pi^+)$ GeV/$c^{2}$\"]\n",
    "    plt.figure(figsize=(5 * (1 + len(particles)), 5))\n",
    "\n",
    "    for i, particle_name, x_title, color in zip(range(1, 1 + len(particles)), particles, x_titles, colors):\n",
    "        hist_name = f\"Found_All_{particle_name}_Mass\"\n",
    "        values, edges = hist_dict[hist_name].to_numpy()\n",
    "        plt.subplot(1, 1 + len(particles), i + 1)\n",
    "\n",
    "        label_name = hist_name\n",
    "        plt.hist(edges[:-1], edges, weights=values, alpha=0.4, color=color, label=label_name)\n",
    "\n",
    "        avg = np.average(edges[:-1], weights=values)\n",
    "        n_entries = np.sum(values)\n",
    "        first_bin = np.where(values > 0)[0][0]\n",
    "        last_bin = np.where(values > 0)[0][-1]\n",
    "        stats = f\"Entries: {n_entries:.0f}\\nAverage: {avg:.2f}\"\n",
    "        plt.hist(edges[:-1], edges, alpha=0., label=stats) # invisible histogram to show stats on the legend\n",
    "\n",
    "        plt.ylabel(\"Counts\", loc='top')\n",
    "\n",
    "        plt.ylim(top=1.2*np.max(values))\n",
    "        plt.xlabel(x_title, loc='right')\n",
    "\n",
    "        plt.legend(fontsize='small')\n",
    "\n",
    "    plt.tight_layout()\n",
    "\n",
    "    plt.show()"
   ]
  },
  {
   "cell_type": "code",
   "execution_count": null,
   "metadata": {},
   "outputs": [],
   "source": [
    "plot_mass()"
   ]
  },
  {
   "cell_type": "code",
   "execution_count": null,
   "metadata": {},
   "outputs": [],
   "source": [
    "def plot_interaction_props():\n",
    "    particle = \"AntiSexaquark\"\n",
    "    variables = [\"Mass\", \"Pt\", \"Radius\"]\n",
    "    # variables = [\"Rapidity\", \"CPAwrtPV\", \"DCAwrtPV\"]\n",
    "    plt.figure(figsize=(5 * (1 + len(variables)), 5))\n",
    "\n",
    "    for i, var in zip(range(1, 1 + len(variables)), variables):\n",
    "        hist_name = f\"MCGen_All_{particle}_{var}\"\n",
    "        values, edges = hist_dict[hist_name].to_numpy()\n",
    "        plt.subplot(1, 1 + len(variables), i + 1)\n",
    "\n",
    "        label_name = hist_name\n",
    "        plt.hist(edges[:-1], edges, weights=values, alpha=0.4, color=colors[i-1], label=label_name)\n",
    "        # plt.hist(edges[:-1], edges, weights=values, alpha=0.4, color=colors[i+2], label=label_name)\n",
    "\n",
    "        avg = np.average(edges[:-1], weights=values)\n",
    "        n_entries = np.sum(values)\n",
    "        first_bin = np.where(values > 0)[0][0]\n",
    "        last_bin = np.where(values > 0)[0][-1]\n",
    "        stats = f\"Entries: {n_entries:.0f}\\nAverage: {avg:.2f}\"\n",
    "        plt.hist(edges[:-1], edges, alpha=0., label=stats) # invisible histogram to show stats on the legend\n",
    "\n",
    "        plt.ylabel(\"Counts\", loc='top')\n",
    "\n",
    "        plt.ylim(top=1.2*np.max(values))\n",
    "\n",
    "        plt.legend(fontsize='small')\n",
    "\n",
    "    plt.tight_layout()\n",
    "\n",
    "    plt.show()"
   ]
  },
  {
   "cell_type": "code",
   "execution_count": null,
   "metadata": {},
   "outputs": [],
   "source": [
    "plot_interaction_props()"
   ]
  }
 ],
 "metadata": {
  "kernelspec": {
   "display_name": "env",
   "language": "python",
   "name": "python3"
  },
  "language_info": {
   "codemirror_mode": {
    "name": "ipython",
    "version": 3
   },
   "file_extension": ".py",
   "mimetype": "text/x-python",
   "name": "python",
   "nbconvert_exporter": "python",
   "pygments_lexer": "ipython3",
   "version": "3.10.12"
  }
 },
 "nbformat": 4,
 "nbformat_minor": 2
}
