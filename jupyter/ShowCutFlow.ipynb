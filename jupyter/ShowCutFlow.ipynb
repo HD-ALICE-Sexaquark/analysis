{
 "cells": [
  {
   "cell_type": "code",
   "execution_count": null,
   "metadata": {},
   "outputs": [],
   "source": [
    "import uproot\n",
    "import numpy as np\n",
    "import matplotlib.pyplot as plt"
   ]
  },
  {
   "cell_type": "code",
   "execution_count": null,
   "metadata": {},
   "outputs": [],
   "source": [
    "# open a root file and make an array of all TH1F within a TList\n",
    "# filename = \"../sexaquark/test_da/AnalysisResults_A1.8_246540_15000246540020.106_kalmanV0s.root\" # data\n",
    "filename = \"../sexaquark/test_sig/AnalysisResults_kalmanV0s.root\" # signal + bkg sim\n",
    "# filename = \"../sexaquark/test_sig/AnalysisResults_customV0s.root\" # signal + bkg sim\n",
    "# filename = \"../sexaquark/test_ob/AnalysisResults_kalmanV0s.root\" # gen. purp. sim\n",
    "file = uproot.open(filename)\n",
    "histograms = file[\"Hists/\"]\n",
    "\n",
    "# map names to histograms\n",
    "hist_dict = {hist.name: hist for hist in histograms}\n",
    "\n",
    "colors = plt.rcParams['axes.prop_cycle'].by_key()['color']"
   ]
  },
  {
   "cell_type": "code",
   "execution_count": null,
   "metadata": {},
   "outputs": [],
   "source": [
    "def plot_bookkeep():\n",
    "    plt.figure(figsize=(10, 8))\n",
    "\n",
    "    hist_name = \"AntiSexaquarks_Bookkeep\"\n",
    "    values, edges = hist_dict[hist_name].to_numpy()\n",
    "\n",
    "    label_name = hist_name\n",
    "    plt.hist(edges[:-1], edges, weights=values, alpha=0.5, label=label_name, histtype='bar', edgecolor=colors[0], linewidth=2)\n",
    "\n",
    "    avg = np.average(edges[:-1], weights=values)\n",
    "    n_entries = np.sum(values)\n",
    "    first_bin = np.where(values > 0)[0][0]\n",
    "    last_bin = np.where(values > 0)[0][-1]\n",
    "    stats = f\"Entries: {n_entries:.0f}\"\n",
    "    plt.hist(edges[:-1], edges, alpha=0., label=stats) # invisible histogram to show stats on the legend\n",
    "\n",
    "    plt.yscale('log')\n",
    "    plt.ylim(top=1.2*np.max(values))\n",
    "\n",
    "    tick_positions = [i + 0.5 for i in range(21)]\n",
    "    meaning = {0: \"mc gen. anti-sexaquarks\",\n",
    "               1: \"findable anti-sexaquarks\",\n",
    "               2: \"any anti-lambda and k0s\",\n",
    "               3: \"passed mass cut\",\n",
    "               4: \"passed pt cut\",\n",
    "               5: \"passed eta cut\",\n",
    "               6: \"passed rapidity cut\",\n",
    "               7: \"passed radius cut\",\n",
    "               8: \"passed decay length cut\",\n",
    "               9: \"passed cpa w.r.t. pv cut\",\n",
    "               10: \"passed dca w.r.t. pv cut\",\n",
    "               11: \"passed dca btw. v0s cut\",\n",
    "               12: \"passed dca v0a sv cut\",\n",
    "               13: \"passed dca v0b sv cut\",\n",
    "               14: \"passed dca v0a neg sv cut\",\n",
    "               15: \"passed dca v0a pos sv cut\",\n",
    "               16: \"passed dca v0b neg sv cut\",\n",
    "               17: \"passed dca v0b pos sv cut\",\n",
    "               18: \"passed chi2/ndf cut\",\n",
    "               19: \"passed all cuts\",\n",
    "               20: \"passed all cut + is signal\"}\n",
    "    if filename.count(\"customV0s\"): meaning[18] = \"passed all cuts\"\n",
    "    tick_labels = [meaning[int(i)] for i in range(21)]\n",
    "    plt.xticks(tick_positions, tick_labels, rotation=90)\n",
    "\n",
    "    plt.legend()\n",
    "\n",
    "    plt.tight_layout()\n",
    "\n",
    "    plt.show()"
   ]
  },
  {
   "cell_type": "code",
   "execution_count": null,
   "metadata": {},
   "outputs": [],
   "source": [
    "plot_bookkeep()"
   ]
  },
  {
   "cell_type": "code",
   "execution_count": null,
   "metadata": {},
   "outputs": [],
   "source": [
    "def plot_mass():\n",
    "    particles = [\"AntiLambda\", \"KaonZeroShort\"]\n",
    "    x_titles = [r\"$m(\\bar{p},\\pi^+)$ GeV/$c^{2}$\", r\"$m(\\pi^-,\\pi^+)$ GeV/$c^{2}$\"]\n",
    "    plt.figure(figsize=(5 * (1 + len(particles)), 5))\n",
    "\n",
    "    for i, particle_name, x_title, color in zip(range(1, 1 + len(particles)), particles, x_titles, colors):\n",
    "        hist_name = f\"Found_All_{particle_name}_Mass\"\n",
    "        values, edges = hist_dict[hist_name].to_numpy()\n",
    "        plt.subplot(1, 1 + len(particles), i + 1)\n",
    "\n",
    "        label_name = hist_name\n",
    "        plt.hist(edges[:-1], edges, weights=values, alpha=0.4, color=color, label=label_name)\n",
    "\n",
    "        avg = np.average(edges[:-1], weights=values)\n",
    "        n_entries = np.sum(values)\n",
    "        first_bin = np.where(values > 0)[0][0]\n",
    "        last_bin = np.where(values > 0)[0][-1]\n",
    "        stats = f\"Entries: {n_entries:.0f}\\nAverage: {avg:.2f}\"\n",
    "        plt.hist(edges[:-1], edges, alpha=0., label=stats) # invisible histogram to show stats on the legend\n",
    "\n",
    "        plt.ylabel(\"Counts\", loc='top')\n",
    "\n",
    "        plt.ylim(top=1.2*np.max(values))\n",
    "        plt.xlabel(x_title, loc='right')\n",
    "\n",
    "        plt.legend(fontsize='small')\n",
    "\n",
    "    plt.tight_layout()\n",
    "\n",
    "    plt.show()"
   ]
  },
  {
   "cell_type": "code",
   "execution_count": null,
   "metadata": {},
   "outputs": [],
   "source": [
    "plot_mass()"
   ]
  },
  {
   "cell_type": "code",
   "execution_count": null,
   "metadata": {},
   "outputs": [],
   "source": [
    "def plot_interaction_props():\n",
    "    particle = \"AntiSexaquark\"\n",
    "    variables = [\"Mass\", \"Pt\", \"Radius\"]\n",
    "    # variables = [\"Rapidity\", \"CPAwrtPV\", \"DCAwrtPV\"]\n",
    "    plt.figure(figsize=(5 * (1 + len(variables)), 5))\n",
    "\n",
    "    for i, var in zip(range(1, 1 + len(variables)), variables):\n",
    "        hist_name = f\"MCGen_All_{particle}_{var}\"\n",
    "        values, edges = hist_dict[hist_name].to_numpy()\n",
    "        plt.subplot(1, 1 + len(variables), i + 1)\n",
    "\n",
    "        label_name = hist_name\n",
    "        plt.hist(edges[:-1], edges, weights=values, alpha=0.4, color=colors[i-1], label=label_name)\n",
    "        # plt.hist(edges[:-1], edges, weights=values, alpha=0.4, color=colors[i+2], label=label_name)\n",
    "\n",
    "        avg = np.average(edges[:-1], weights=values)\n",
    "        n_entries = np.sum(values)\n",
    "        first_bin = np.where(values > 0)[0][0]\n",
    "        last_bin = np.where(values > 0)[0][-1]\n",
    "        stats = f\"Entries: {n_entries:.0f}\\nAverage: {avg:.2f}\"\n",
    "        plt.hist(edges[:-1], edges, alpha=0., label=stats) # invisible histogram to show stats on the legend\n",
    "\n",
    "        plt.ylabel(\"Counts\", loc='top')\n",
    "\n",
    "        plt.ylim(top=1.2*np.max(values))\n",
    "\n",
    "        plt.legend(fontsize='small')\n",
    "\n",
    "    plt.tight_layout()\n",
    "\n",
    "    plt.show()"
   ]
  },
  {
   "cell_type": "code",
   "execution_count": null,
   "metadata": {},
   "outputs": [],
   "source": [
    "plot_interaction_props()"
   ]
  }
 ],
 "metadata": {
  "kernelspec": {
   "display_name": "env",
   "language": "python",
   "name": "python3"
  },
  "language_info": {
   "codemirror_mode": {
    "name": "ipython",
    "version": 3
   },
   "file_extension": ".py",
   "mimetype": "text/x-python",
   "name": "python",
   "nbconvert_exporter": "python",
   "pygments_lexer": "ipython3",
   "version": "3.8.10"
  }
 },
 "nbformat": 4,
 "nbformat_minor": 2
}
