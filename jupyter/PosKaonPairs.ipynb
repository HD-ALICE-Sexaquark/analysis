{
 "cells": [
  {
   "cell_type": "code",
   "execution_count": null,
   "metadata": {},
   "outputs": [],
   "source": [
    "import uproot\n",
    "import numpy as np\n",
    "import matplotlib.pyplot as plt\n",
    "\n",
    "import Style as style\n",
    "\n",
    "style.SetFonts()"
   ]
  },
  {
   "cell_type": "code",
   "execution_count": null,
   "metadata": {},
   "outputs": [],
   "source": [
    "# open a root file and make an array of all TH1F within a TList\n",
    "filename = \"../sexaquark/test_sig/AnalysisResults_H1.8_kalmanV0s.root\"\n",
    "file = uproot.open(filename)\n",
    "histograms = file[\"Hists/\"]\n",
    "\n",
    "# map names to histograms\n",
    "hist_dict = {hist.name: hist for hist in histograms}"
   ]
  },
  {
   "cell_type": "code",
   "execution_count": null,
   "metadata": {},
   "outputs": [],
   "source": [
    "def plot(stage_name, particle_name, var_name):\n",
    "    sets = []\n",
    "    if particle_name == \"PosKaonPair\":\n",
    "        sets = [\"All\", \"Signal\"]\n",
    "    else:\n",
    "        sets = [\"All\", \"True\", \"Secondary\", \"Signal\"]\n",
    "    plt.figure(figsize=(4 * (1 + len(sets)), 4))\n",
    "\n",
    "    # part 1: all histograms overlayed\n",
    "    plt.subplot(1, 1 + len(sets), 1)\n",
    "\n",
    "    max_y=0\n",
    "    for set_name, color in zip(sets, style.colors):\n",
    "        hist_name = f\"{stage_name}_{set_name}_{particle_name}_{var_name}\"\n",
    "        values, edges = hist_dict[hist_name].to_numpy()\n",
    "\n",
    "        label_name = hist_name.replace(\"AntiLambda\", \"AL\").replace(\"KaonZeroShort\", \"K0S\")\n",
    "        plt.hist(edges[:-1], edges, weights=values, alpha=0.4, color=color, label=label_name)\n",
    "        if np.max(values) > max_y:\n",
    "            max_y = np.max(values)\n",
    "\n",
    "    plt.ylim(top=1.2*max_y)\n",
    "    plt.legend(fontsize='small')\n",
    "\n",
    "    # part 2: one plot per histogram\n",
    "    for i, set_name, color in zip(range(1, 1 + len(sets)), sets, style.colors):\n",
    "        hist_name = f\"{stage_name}_{set_name}_{particle_name}_{var_name}\"\n",
    "        values, edges = hist_dict[hist_name].to_numpy()\n",
    "        plt.subplot(1, 1 + len(sets), i + 1)\n",
    "\n",
    "        label_name = hist_name.replace(\"AntiLambda\", \"AL\").replace(\"KaonZeroShort\", \"K0S\")\n",
    "        plt.hist(edges[:-1], edges, weights=values, alpha=0.4, color=color, label=label_name)\n",
    "\n",
    "        if np.sum(values) == 0.:\n",
    "            break\n",
    "\n",
    "        avg = np.average(edges[:-1], weights=values)\n",
    "        n_entries = np.sum(values)\n",
    "        first_bin = np.where(values > 0)[0][0]\n",
    "        last_bin = np.where(values > 0)[0][-1]\n",
    "        stats = f\"Entries: {n_entries:.0f}\\nAverage: {avg:.2f}\\nMin. {var_name}: {edges[first_bin]:.2f}\\nMax. {var_name}: {edges[last_bin+1]:.2f}\"\n",
    "        plt.hist(edges[:-1], edges, alpha=0., label=stats) # invisible histogram to show stats on the legend\n",
    "\n",
    "        plt.ylim(top=1.2*np.max(values))\n",
    "\n",
    "        plt.legend(fontsize='small')\n",
    "\n",
    "    plt.tight_layout()\n",
    "\n",
    "    plt.show()"
   ]
  },
  {
   "cell_type": "markdown",
   "metadata": {},
   "source": [
    "### Kaons"
   ]
  },
  {
   "cell_type": "code",
   "execution_count": null,
   "metadata": {},
   "outputs": [],
   "source": [
    "plot(\"Found\", \"PosKaon\", \"Pt\")\n",
    "plot(\"Found\", \"PosKaon\", \"Pz\")\n",
    "plot(\"Found\", \"PosKaon\", \"Eta\")\n",
    "plot(\"Found\", \"PosKaon\", \"DCAwrtPV\")\n",
    "plot(\"Found\", \"PosKaon\", \"NTPCClusters\")\n",
    "plot(\"Found\", \"PosKaon\", \"Chi2/NClusters\")\n",
    "plot(\"Found\", \"PosKaon\", \"NSigmaProton\")\n",
    "plot(\"Found\", \"PosKaon\", \"NSigmaKaon\")\n",
    "plot(\"Found\", \"PosKaon\", \"NSigmaPion\")\n",
    "plot(\"Found\", \"PosKaon\", \"Status\")\n",
    "plot(\"Found\", \"PosKaon\", \"GoldenChi2\")"
   ]
  },
  {
   "cell_type": "markdown",
   "metadata": {},
   "source": [
    "### Positive Kaon Pairs"
   ]
  },
  {
   "cell_type": "code",
   "execution_count": null,
   "metadata": {},
   "outputs": [],
   "source": [
    "plot(\"Found\", \"Mass\")\n",
    "plot(\"Found\", \"Radius\")\n",
    "plot(\"Found\", \"DecayLength\")\n",
    "plot(\"Found\", \"Xv\")\n",
    "plot(\"Found\", \"Yv\")\n",
    "plot(\"Found\", \"Zv\")\n",
    "plot(\"Found\", \"Eta\")\n",
    "plot(\"Found\", \"Rapidity\")\n",
    "plot(\"Found\", \"Px\")\n",
    "plot(\"Found\", \"Py\")\n",
    "plot(\"Found\", \"Pz\")\n",
    "plot(\"Found\", \"Pt\")\n",
    "plot(\"Found\", \"OpeningAngle\")\n",
    "plot(\"Found\", \"DCAwrtPV\")\n",
    "plot(\"Found\", \"DCAbtwKaons\")\n",
    "plot(\"Found\", \"DCApkaSV\")\n",
    "plot(\"Found\", \"DCApkbSV\")\n",
    "plot(\"Found\", \"Chi2ndf\")"
   ]
  }
 ],
 "metadata": {
  "kernelspec": {
   "display_name": "Python 3",
   "language": "python",
   "name": "python3"
  },
  "language_info": {
   "codemirror_mode": {
    "name": "ipython",
    "version": 3
   },
   "file_extension": ".py",
   "mimetype": "text/x-python",
   "name": "python",
   "nbconvert_exporter": "python",
   "pygments_lexer": "ipython3",
   "version": "3.8.10"
  }
 },
 "nbformat": 4,
 "nbformat_minor": 2
}
