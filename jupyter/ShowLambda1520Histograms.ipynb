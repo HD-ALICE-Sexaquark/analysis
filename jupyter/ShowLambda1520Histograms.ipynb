{
 "cells": [
  {
   "cell_type": "code",
   "execution_count": null,
   "metadata": {},
   "outputs": [],
   "source": [
    "import uproot\n",
    "import numpy as np\n",
    "import matplotlib.pyplot as plt"
   ]
  },
  {
   "cell_type": "code",
   "execution_count": null,
   "metadata": {},
   "outputs": [],
   "source": [
    "# open a root file and make an array of all TH1F within a TList\n",
    "# resonances sims\n",
    "filename = \"../lambda-1520/test_sig/AnalysisResults_297595_009.root\"\n",
    "file = uproot.open(filename)\n",
    "histograms = file[\"Hists/\"]\n",
    "\n",
    "# map names to histograms\n",
    "hist_dict = {hist.name: hist for hist in histograms}\n",
    "\n",
    "colors = plt.rcParams['axes.prop_cycle'].by_key()['color']"
   ]
  },
  {
   "cell_type": "code",
   "execution_count": null,
   "metadata": {},
   "outputs": [],
   "source": [
    "def plot(stage_name, particle_name, var_name):\n",
    "    sets = []\n",
    "    if particle_name.count(\"Lambda1520\"):\n",
    "        sets = [\"All\", \"Signal\"]\n",
    "    else:\n",
    "        sets = [\"All\", \"True\", \"Signal\"]\n",
    "    plt.figure(figsize=(4 * (1 + len(sets)), 4))\n",
    "\n",
    "    # part 1: all histograms overlayed\n",
    "    plt.subplot(1, 1 + len(sets), 1)\n",
    "\n",
    "    max_y=0\n",
    "    for set_name, color in zip(sets, colors):\n",
    "        hist_name = f\"{stage_name}_{set_name}_{particle_name}_{var_name}\"\n",
    "        values, edges = hist_dict[hist_name].to_numpy()\n",
    "\n",
    "        label_name = hist_name.replace(\"AntiLambda\", \"AL\").replace(\"Lambda\", \"L\").replace(\"PionPair\", \"PP\")\n",
    "        plt.hist(edges[:-1], edges, weights=values, alpha=0.4, color=color, label=label_name)\n",
    "        if np.max(values) > max_y:\n",
    "            max_y = np.max(values)\n",
    "\n",
    "    plt.ylim(top=1.2*max_y)\n",
    "    plt.legend(fontsize='small')\n",
    "\n",
    "    # part 2: one plot per histogram\n",
    "    for i, set_name, color in zip(range(1, 1 + len(sets)), sets, colors):\n",
    "        hist_name = f\"{stage_name}_{set_name}_{particle_name}_{var_name}\"\n",
    "        values, edges = hist_dict[hist_name].to_numpy()\n",
    "        plt.subplot(1, 1 + len(sets), i + 1)\n",
    "\n",
    "        label_name = hist_name.replace(\"AntiLambda\", \"AL\").replace(\"Lambda\", \"L\").replace(\"PionPair\", \"PP\")\n",
    "        plt.hist(edges[:-1], edges, weights=values, alpha=0.4, color=color, label=label_name)\n",
    "\n",
    "        if np.sum(values) == 0.:\n",
    "            break\n",
    "\n",
    "        avg = np.average(edges[:-1], weights=values)\n",
    "        n_entries = np.sum(values)\n",
    "        first_bin = np.where(values > 0)[0][0]\n",
    "        last_bin = np.where(values > 0)[0][-1]\n",
    "        stats = f\"Entries: {n_entries:.0f}\\nAverage: {avg:.2f}\\nMin. {var_name}: {edges[first_bin]:.2f}\\nMax. {var_name}: {edges[last_bin+1]:.2f}\"\n",
    "        plt.hist(edges[:-1], edges, alpha=0., label=stats) # invisible histogram to show stats on the legend\n",
    "\n",
    "        plt.ylim(top=1.2*np.max(values))\n",
    "\n",
    "        plt.legend(fontsize='small')\n",
    "\n",
    "    plt.tight_layout()\n",
    "\n",
    "    plt.show()"
   ]
  },
  {
   "cell_type": "markdown",
   "metadata": {},
   "source": [
    "### Reconstructed Tracks"
   ]
  },
  {
   "cell_type": "code",
   "execution_count": null,
   "metadata": {},
   "outputs": [],
   "source": [
    "plot(\"Found\", \"Proton\", \"Pt\")\n",
    "plot(\"Found\", \"Proton\", \"Pz\")\n",
    "plot(\"Found\", \"Proton\", \"Eta\")\n",
    "plot(\"Found\", \"Proton\", \"DCAwrtPV\")\n",
    "plot(\"Found\", \"Proton\", \"NTPCClusters\")\n",
    "plot(\"Found\", \"Proton\", \"Chi2/NClusters\")\n",
    "plot(\"Found\", \"Proton\", \"NSigmaProton\")\n",
    "plot(\"Found\", \"Proton\", \"NSigmaKaon\")\n",
    "plot(\"Found\", \"Proton\", \"NSigmaPion\")\n",
    "plot(\"Found\", \"Proton\", \"Status\")\n",
    "plot(\"Found\", \"Proton\", \"GoldenChi2\")"
   ]
  },
  {
   "cell_type": "code",
   "execution_count": null,
   "metadata": {},
   "outputs": [],
   "source": [
    "plot(\"Found\", \"AntiProton\", \"Pt\")\n",
    "plot(\"Found\", \"AntiProton\", \"Pz\")\n",
    "plot(\"Found\", \"AntiProton\", \"Eta\")\n",
    "plot(\"Found\", \"AntiProton\", \"DCAwrtPV\")\n",
    "plot(\"Found\", \"AntiProton\", \"NTPCClusters\")\n",
    "plot(\"Found\", \"AntiProton\", \"Chi2/NClusters\")\n",
    "plot(\"Found\", \"AntiProton\", \"NSigmaProton\")\n",
    "plot(\"Found\", \"AntiProton\", \"NSigmaKaon\")\n",
    "plot(\"Found\", \"AntiProton\", \"NSigmaPion\")\n",
    "plot(\"Found\", \"AntiProton\", \"Status\")\n",
    "plot(\"Found\", \"AntiProton\", \"GoldenChi2\")"
   ]
  },
  {
   "cell_type": "code",
   "execution_count": null,
   "metadata": {},
   "outputs": [],
   "source": [
    "plot(\"Found\", \"PiPlus\", \"Pt\")\n",
    "plot(\"Found\", \"PiPlus\", \"Pz\")\n",
    "plot(\"Found\", \"PiPlus\", \"Eta\")\n",
    "plot(\"Found\", \"PiPlus\", \"DCAwrtPV\")\n",
    "plot(\"Found\", \"PiPlus\", \"NTPCClusters\")\n",
    "plot(\"Found\", \"PiPlus\", \"Chi2/NClusters\")\n",
    "plot(\"Found\", \"PiPlus\", \"NSigmaProton\")\n",
    "plot(\"Found\", \"PiPlus\", \"NSigmaKaon\")\n",
    "plot(\"Found\", \"PiPlus\", \"NSigmaPion\")\n",
    "plot(\"Found\", \"PiPlus\", \"Status\")\n",
    "plot(\"Found\", \"PiPlus\", \"GoldenChi2\")"
   ]
  },
  {
   "cell_type": "code",
   "execution_count": null,
   "metadata": {},
   "outputs": [],
   "source": [
    "plot(\"Found\", \"PiMinus\", \"Pt\")\n",
    "plot(\"Found\", \"PiMinus\", \"Pz\")\n",
    "plot(\"Found\", \"PiMinus\", \"Eta\")\n",
    "plot(\"Found\", \"PiMinus\", \"DCAwrtPV\")\n",
    "plot(\"Found\", \"PiMinus\", \"NTPCClusters\")\n",
    "plot(\"Found\", \"PiMinus\", \"Chi2/NClusters\")\n",
    "plot(\"Found\", \"PiMinus\", \"NSigmaProton\")\n",
    "plot(\"Found\", \"PiMinus\", \"NSigmaKaon\")\n",
    "plot(\"Found\", \"PiMinus\", \"NSigmaPion\")\n",
    "plot(\"Found\", \"PiMinus\", \"Status\")\n",
    "plot(\"Found\", \"PiMinus\", \"GoldenChi2\")"
   ]
  },
  {
   "cell_type": "markdown",
   "metadata": {},
   "source": [
    "### V0s"
   ]
  },
  {
   "cell_type": "code",
   "execution_count": null,
   "metadata": {},
   "outputs": [],
   "source": [
    "plot(\"Found\", \"Lambda\", \"Mass\")\n",
    "plot(\"Found\", \"Lambda\", \"Radius\")\n",
    "plot(\"Found\", \"Lambda\", \"CPAwrtPV\")\n",
    "plot(\"Found\", \"Lambda\", \"DCAwrtPV\")\n",
    "plot(\"Found\", \"Lambda\", \"DCAbtwDau\")\n",
    "plot(\"Found\", \"Lambda\", \"DCAnegV0\")\n",
    "plot(\"Found\", \"Lambda\", \"DCAposV0\")\n",
    "plot(\"Found\", \"Lambda\", \"DecayLength\")\n",
    "plot(\"Found\", \"Lambda\", \"Zv\")\n",
    "plot(\"Found\", \"Lambda\", \"Eta\")\n",
    "plot(\"Found\", \"Lambda\", \"Pt\")\n",
    "plot(\"Found\", \"Lambda\", \"Pz\")\n",
    "plot(\"Found\", \"Lambda\", \"ArmQt\")\n",
    "plot(\"Found\", \"Lambda\", \"ArmAlpha\")\n",
    "plot(\"Found\", \"Lambda\", \"OpeningAngle\")\n",
    "plot(\"Found\", \"Lambda\", \"Chi2ndf\")"
   ]
  },
  {
   "cell_type": "code",
   "execution_count": null,
   "metadata": {},
   "outputs": [],
   "source": [
    "plot(\"Found\", \"AntiLambda\", \"Mass\")\n",
    "plot(\"Found\", \"AntiLambda\", \"Radius\")\n",
    "plot(\"Found\", \"AntiLambda\", \"CPAwrtPV\")\n",
    "plot(\"Found\", \"AntiLambda\", \"DCAwrtPV\")\n",
    "plot(\"Found\", \"AntiLambda\", \"DCAbtwDau\")\n",
    "plot(\"Found\", \"AntiLambda\", \"DCAnegV0\")\n",
    "plot(\"Found\", \"AntiLambda\", \"DCAposV0\")\n",
    "plot(\"Found\", \"AntiLambda\", \"DecayLength\")\n",
    "plot(\"Found\", \"AntiLambda\", \"Zv\")\n",
    "plot(\"Found\", \"AntiLambda\", \"Eta\")\n",
    "plot(\"Found\", \"AntiLambda\", \"Pt\")\n",
    "plot(\"Found\", \"AntiLambda\", \"Pz\")\n",
    "plot(\"Found\", \"AntiLambda\", \"ArmQt\")\n",
    "plot(\"Found\", \"AntiLambda\", \"ArmAlpha\")\n",
    "plot(\"Found\", \"AntiLambda\", \"OpeningAngle\")\n",
    "plot(\"Found\", \"AntiLambda\", \"Chi2ndf\")"
   ]
  },
  {
   "cell_type": "code",
   "execution_count": null,
   "metadata": {},
   "outputs": [],
   "source": [
    "plot(\"Found\", \"PionPair\", \"Mass\")\n",
    "plot(\"Found\", \"PionPair\", \"Radius\")\n",
    "plot(\"Found\", \"PionPair\", \"CPAwrtPV\")\n",
    "plot(\"Found\", \"PionPair\", \"DCAwrtPV\")\n",
    "plot(\"Found\", \"PionPair\", \"DCAbtwDau\")\n",
    "plot(\"Found\", \"PionPair\", \"DCAnegV0\")\n",
    "plot(\"Found\", \"PionPair\", \"DCAposV0\")\n",
    "plot(\"Found\", \"PionPair\", \"DecayLength\")\n",
    "plot(\"Found\", \"PionPair\", \"Zv\")\n",
    "plot(\"Found\", \"PionPair\", \"Eta\")\n",
    "plot(\"Found\", \"PionPair\", \"Pt\")\n",
    "plot(\"Found\", \"PionPair\", \"Pz\")\n",
    "plot(\"Found\", \"PionPair\", \"ArmQt\")\n",
    "plot(\"Found\", \"PionPair\", \"ArmAlpha\")\n",
    "plot(\"Found\", \"PionPair\", \"OpeningAngle\")\n",
    "plot(\"Found\", \"PionPair\", \"Chi2ndf\")"
   ]
  },
  {
   "cell_type": "markdown",
   "metadata": {},
   "source": [
    "### (Anti)Lambda(1520) Candidates"
   ]
  },
  {
   "cell_type": "code",
   "execution_count": null,
   "metadata": {},
   "outputs": [],
   "source": [
    "plot(\"Found\", \"Lambda1520\", \"Mass\")\n",
    "plot(\"Found\", \"Lambda1520\", \"Pt\")\n",
    "plot(\"Found\", \"Lambda1520\", \"Pz\")\n",
    "plot(\"Found\", \"Lambda1520\", \"Radius\")\n",
    "plot(\"Found\", \"Lambda1520\", \"Zv\")\n",
    "plot(\"Found\", \"Lambda1520\", \"DecayLength\")\n",
    "plot(\"Found\", \"Lambda1520\", \"Eta\")\n",
    "plot(\"Found\", \"Lambda1520\", \"Rapidity\")\n",
    "plot(\"Found\", \"Lambda1520\", \"CPAwrtPV\")\n",
    "plot(\"Found\", \"Lambda1520\", \"DCAwrtPV\")\n",
    "plot(\"Found\", \"Lambda1520\", \"DCAbtwV0s\")\n",
    "plot(\"Found\", \"Lambda1520\", \"DCAv0aSV\")\n",
    "plot(\"Found\", \"Lambda1520\", \"DCAv0bSV\")\n",
    "plot(\"Found\", \"Lambda1520\", \"DCAv0anegSV\")\n",
    "plot(\"Found\", \"Lambda1520\", \"DCAv0aposSV\")\n",
    "plot(\"Found\", \"Lambda1520\", \"DCAv0bnegSV\")\n",
    "plot(\"Found\", \"Lambda1520\", \"DCAv0bposSV\")\n",
    "plot(\"Found\", \"Lambda1520\", \"Chi2ndf\")"
   ]
  },
  {
   "cell_type": "code",
   "execution_count": null,
   "metadata": {},
   "outputs": [],
   "source": [
    "plot(\"Found\", \"AntiLambda1520\", \"Mass\")\n",
    "plot(\"Found\", \"AntiLambda1520\", \"Pt\")\n",
    "plot(\"Found\", \"AntiLambda1520\", \"Pz\")\n",
    "plot(\"Found\", \"AntiLambda1520\", \"Radius\")\n",
    "plot(\"Found\", \"AntiLambda1520\", \"Zv\")\n",
    "plot(\"Found\", \"AntiLambda1520\", \"DecayLength\")\n",
    "plot(\"Found\", \"AntiLambda1520\", \"Eta\")\n",
    "plot(\"Found\", \"AntiLambda1520\", \"Rapidity\")\n",
    "plot(\"Found\", \"AntiLambda1520\", \"CPAwrtPV\")\n",
    "plot(\"Found\", \"AntiLambda1520\", \"DCAwrtPV\")\n",
    "plot(\"Found\", \"AntiLambda1520\", \"DCAbtwV0s\")\n",
    "plot(\"Found\", \"AntiLambda1520\", \"DCAv0aSV\")\n",
    "plot(\"Found\", \"AntiLambda1520\", \"DCAv0bSV\")\n",
    "plot(\"Found\", \"AntiLambda1520\", \"DCAv0anegSV\")\n",
    "plot(\"Found\", \"AntiLambda1520\", \"DCAv0aposSV\")\n",
    "plot(\"Found\", \"AntiLambda1520\", \"DCAv0bnegSV\")\n",
    "plot(\"Found\", \"AntiLambda1520\", \"DCAv0bposSV\")\n",
    "plot(\"Found\", \"AntiLambda1520\", \"Chi2ndf\")"
   ]
  }
 ],
 "metadata": {
  "kernelspec": {
   "display_name": "env",
   "language": "python",
   "name": "python3"
  },
  "language_info": {
   "codemirror_mode": {
    "name": "ipython",
    "version": 3
   },
   "file_extension": ".py",
   "mimetype": "text/x-python",
   "name": "python",
   "nbconvert_exporter": "python",
   "pygments_lexer": "ipython3",
   "version": "3.8.10"
  }
 },
 "nbformat": 4,
 "nbformat_minor": 2
}
