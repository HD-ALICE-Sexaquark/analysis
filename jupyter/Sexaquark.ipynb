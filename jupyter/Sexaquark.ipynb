{
 "cells": [
  {
   "cell_type": "code",
   "execution_count": null,
   "metadata": {},
   "outputs": [],
   "source": [
    "import uproot\n",
    "import numpy as np\n",
    "import matplotlib.pyplot as plt\n",
    "\n",
    "colors = plt.rcParams['axes.prop_cycle'].by_key()['color']"
   ]
  },
  {
   "cell_type": "markdown",
   "metadata": {},
   "source": [
    "### **Injected Results**"
   ]
  },
  {
   "cell_type": "code",
   "execution_count": null,
   "metadata": {},
   "outputs": [],
   "source": [
    "# open a root file and make an array of all branches within a TTree\n",
    "file = uproot.open(\"../macros/test/InjectedResults.root\")\n",
    "tree = file[\"IC\"]\n",
    "\n",
    "# convert branch \"SM\" into a numpy array\n",
    "SM = tree[\"SM\"].array() # mass\n",
    "SPx = tree[\"SPx\"].array() # momentum\n",
    "SPy = tree[\"SPy\"].array()\n",
    "SPz = tree[\"SPz\"].array()\n",
    "\n",
    "SPt = np.sqrt(SPx**2 + SPy**2)\n",
    "SPhi = np.arccos(SPx / SPt)\n",
    "SMt = np.sqrt(SM**2 + SPt**2)\n",
    "SRapidity = np.arcsinh(SPz / SMt)\n",
    "\n",
    "plt.figure(figsize=(10, 8))\n",
    "plt.hist(SPt, bins=100, color=colors[0], histtype=\"step\")\n",
    "plt.show()\n",
    "\n",
    "plt.figure(figsize=(10, 8))\n",
    "plt.hist(SPhi, bins=100, color=colors[1], histtype=\"step\")\n",
    "plt.show()\n",
    "\n",
    "plt.figure(figsize=(10, 8))\n",
    "plt.hist(SRapidity, bins=100, color=colors[2], histtype=\"step\")\n",
    "plt.show()"
   ]
  },
  {
   "cell_type": "markdown",
   "metadata": {},
   "source": [
    "### **Analysis Results**"
   ]
  },
  {
   "cell_type": "code",
   "execution_count": null,
   "metadata": {},
   "outputs": [],
   "source": [
    "# open a root file and make an array of all TH1F within a TList\n",
    "# filename = \"../sexaquark/test_sig/AnalysisResults_A1.8_kalmanV0s.root\" # signal+bkg sim\n",
    "filename = \"../sexaquark/test_bkg/AnalysisResults_A1.8_kalmanV0s.root\" # bkg-only sim\n",
    "file = uproot.open(filename)\n",
    "histograms = file[\"Hists/\"]\n",
    "\n",
    "hist_dict = {hist.name: hist for hist in histograms}\n",
    "colors = plt.rcParams['axes.prop_cycle'].by_key()['color']\n",
    "\n",
    "plt.figure(figsize=(10, 8))\n",
    "\n",
    "hist_name = \"AntiSexaquarks_Bookkeep\"\n",
    "values, edges = hist_dict[hist_name].to_numpy()\n",
    "\n",
    "# print index and value of array \"values\"\n",
    "curr_cut = 0\n",
    "for i, value in enumerate(values):\n",
    "    if value == curr_cut: continue\n",
    "    print(i, round(100. * value / values[2], 5), value)\n",
    "    curr_cut = value\n",
    "\n",
    "label_name = hist_name\n",
    "plt.hist(edges[:-1], edges, weights=values, alpha=0.5, label=label_name, histtype='bar', edgecolor=colors[0], linewidth=2)\n",
    "\n",
    "n_entries = np.sum(values)\n",
    "first_bin = np.where(values > 0)[0][0]\n",
    "last_bin = np.where(values > 0)[0][-1]\n",
    "stats = f\"Entries: {n_entries:.0f}\"\n",
    "plt.hist(edges[:-1], edges, alpha=0., label=stats) # invisible histogram to show stats on the legend\n",
    "\n",
    "plt.ylabel('Counts', loc='top', fontsize=12)\n",
    "plt.yscale('log')\n",
    "plt.ylim(top=1.2*np.max(values))\n",
    "\n",
    "tick_positions = [i + 0.5 for i in range(21)]\n",
    "tick_labels = [i for i in range(21)]\n",
    "plt.xticks(tick_positions, tick_labels, fontweight=\"bold\", fontsize=12)\n",
    "\n",
    "plt.legend()\n",
    "\n",
    "plt.tight_layout()\n",
    "\n",
    "plt.show()"
   ]
  }
 ],
 "metadata": {
  "kernelspec": {
   "display_name": "env",
   "language": "python",
   "name": "python3"
  },
  "language_info": {
   "codemirror_mode": {
    "name": "ipython",
    "version": 3
   },
   "file_extension": ".py",
   "mimetype": "text/x-python",
   "name": "python",
   "nbconvert_exporter": "python",
   "pygments_lexer": "ipython3",
   "version": "3.8.10"
  }
 },
 "nbformat": 4,
 "nbformat_minor": 2
}
