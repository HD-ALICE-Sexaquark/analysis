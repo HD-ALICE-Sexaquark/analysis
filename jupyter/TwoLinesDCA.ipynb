{
 "cells": [
  {
   "cell_type": "code",
   "execution_count": null,
   "metadata": {},
   "outputs": [],
   "source": [
    "import matplotlib.pyplot as plt\n",
    "import numpy as np\n",
    "\n",
    "from scipy.optimize import minimize"
   ]
  },
  {
   "cell_type": "code",
   "execution_count": null,
   "metadata": {},
   "outputs": [],
   "source": [
    "def calculate_angle(dir1, dir2):\n",
    "    norm_dir1 = np.sqrt(dir1[0]**2 + dir1[1]**2)\n",
    "    norm_dir2 = np.sqrt(dir2[0]**2 + dir2[1]**2)\n",
    "    angle_in_radians = np.arccos(np.dot(dir1, dir2) / (norm_dir1 * norm_dir2))\n",
    "    print(np.degrees(angle_in_radians))"
   ]
  },
  {
   "cell_type": "code",
   "execution_count": null,
   "metadata": {},
   "outputs": [],
   "source": [
    "def plot_vectors(ax: plt.Axes, pos1, dir1, color):\n",
    "    ax.quiver(*pos1, *dir1, color=color, angles='xy', scale_units='xy', scale=1)\n",
    "\n",
    "def plot_inf_line(ax: plt.Axes, pos: np.array, dir: np.array):\n",
    "    slope = dir[1] / dir[0]\n",
    "    intercept = pos[1] - slope * pos[0]\n",
    "    x_values = np.linspace(-10, 10, 20)\n",
    "    y_values = slope * x_values + intercept\n",
    "    ax.plot(x_values, y_values, color='y', linestyle='--')\n",
    "\n",
    "def point_on_line(cpa1, pos, dir):\n",
    "    slope = dir[1] / dir[0]\n",
    "    intercept = pos[1] - slope * pos[0]\n",
    "    return np.isclose(cpa1[1], slope * cpa1[0] + intercept)\n",
    "\n",
    "def find_intersection_geo(pos1, dir1, pos2, dir2):\n",
    "    try:\n",
    "        slope1 = dir1[1] / dir1[0]\n",
    "        slope2 = dir2[1] / dir2[0]\n",
    "        intercept1 = pos1[1] - slope1 * pos1[0]\n",
    "        intercept2 = pos2[1] - slope2 * pos2[0]\n",
    "        x = (intercept2 - intercept1) / (slope1 - slope2)\n",
    "        y = slope1 * x + intercept1\n",
    "        return np.array([x, y])\n",
    "    except ZeroDivisionError:\n",
    "        print(\"Lines are parallel!\")\n",
    "\n",
    "# distance between two points in 2D that belong to two lines\n",
    "def objective_function(t, pos1, dir1, pos2, dir2):\n",
    "    return (dir2[0] * t[1] + pos2[0] - (dir1[0] * t[0] + pos1[0]))**2 + (dir2[1] * t[1] + pos2[1] - (dir1[1] * t[0] + pos1[1]))**2\n",
    "\n",
    "# Define the constraints\n",
    "def constraint_ul(t, component, upper_limit):\n",
    "    return upper_limit - t[component]\n",
    "\n",
    "def constraint_ll(t, component, lower_limit):\n",
    "    return t[component] - lower_limit\n",
    "\n",
    "def find_dca_ana(pos1, dir1, pos2, dir2):\n",
    "    t0 = [0, 0]\n",
    "    constraints = [{'type': 'ineq', 'fun': constraint_ul, 'args': (0, 0)},\n",
    "                   {'type': 'ineq', 'fun': constraint_ul, 'args': (1, 0)}]\n",
    "    result = minimize(objective_function, t0, args=(pos1, dir1, pos2, dir2), constraints=constraints)\n",
    "    print(result.x[1])\n",
    "    dca = np.sqrt(objective_function(result.x, pos1, dir1, pos2, dir2))\n",
    "    cpa1 = dir1 * result.x[0] + pos1\n",
    "    cpa2 = dir2 * result.x[1] + pos2\n",
    "\n",
    "    return dca, cpa1, cpa2\n",
    "\n",
    "def plot_line_and_middle(ax: plt.Axes, point1, point2, color):\n",
    "    middle = (point1 + point2) / 2.\n",
    "    ax.plot([point1[0], point2[0]], [point1[1], point2[1]], color=color, linestyle='--')\n",
    "    ax.plot([middle[0]], [middle[1]], marker='o', color=color)\n",
    "\n",
    "def generate_random_vector():\n",
    "    rnd = np.random.uniform(-2, 2, 2)\n",
    "    while (abs(rnd[0]) < 0.5 or abs(rnd[1]) < 0.5):\n",
    "        rnd = np.random.uniform(-1, 2, 2)\n",
    "    return rnd"
   ]
  },
  {
   "cell_type": "code",
   "execution_count": null,
   "metadata": {},
   "outputs": [],
   "source": [
    "def full_example(id, pos1, dir1, pos2, dir2):\n",
    "    fig, ax = plt.subplots()\n",
    "    fig.set_size_inches(6, 6)\n",
    "    ax.set_xlim([-10, 10])\n",
    "    ax.set_ylim([-10, 10])\n",
    "    ax.set_xlabel('x', loc='right')\n",
    "    ax.set_ylabel('y', loc='top')\n",
    "    ax.grid(True)\n",
    "    ax.set_aspect('equal')\n",
    "\n",
    "    # plot the origin\n",
    "    ax.plot(0, 0, color='orange', marker='o')\n",
    "\n",
    "    # plot the two lines\n",
    "    plot_inf_line(ax, pos1, dir1)\n",
    "    plot_inf_line(ax, pos2, dir2)\n",
    "\n",
    "    # plot the two vectors\n",
    "    plot_vectors(ax, pos1, dir1, 'b')\n",
    "    plot_vectors(ax, pos2, dir2, 'r')\n",
    "\n",
    "    # find the intersection of the two lines and plot it\n",
    "    t = find_intersection_geo(pos1, dir1, pos2, dir2)\n",
    "    ax.plot(t[0], t[1], color='g', marker='o')\n",
    "\n",
    "    # find the intersection of the two lines and plot it\n",
    "    dca, cpa1, cpa2 = find_dca_ana(pos1, dir1, pos2, dir2)\n",
    "    ax.plot(cpa1[0], cpa1[1], color='cyan', marker='o')\n",
    "    ax.plot(cpa2[0], cpa2[1], color='cyan', marker='o')\n",
    "    print(f\"dca: {dca}, cpa1: {cpa1}, cpa2: {cpa2}\")\n",
    "\n",
    "    plot_line_and_middle(ax, cpa1, cpa2, 'magenta')\n",
    "\n",
    "    textstr = f\"{id}\"\n",
    "    props = dict(boxstyle='round', facecolor='wheat', alpha=0.5)\n",
    "    ax.text(0.05, 0.95, textstr, transform=ax.transAxes, fontsize=14, verticalalignment='top', bbox=props)"
   ]
  },
  {
   "cell_type": "code",
   "execution_count": null,
   "metadata": {},
   "outputs": [],
   "source": [
    "# Case (a): Two vectors pointing outwards the origin\n",
    "# (improbable to happen in 3D)\n",
    "pos1_a = np.array([1, 1])\n",
    "dir1_a = np.array([1, 1])\n",
    "\n",
    "pos2_a = np.array([2, 3])\n",
    "dir2_a = np.array([-1, 1])\n",
    "\n",
    "full_example(\"Case (a)\", pos1_a, dir1_a, pos2_a, dir2_a)"
   ]
  },
  {
   "cell_type": "code",
   "execution_count": null,
   "metadata": {},
   "outputs": [],
   "source": [
    "# Case (b): Two parallel vectors\n",
    "pos1_b = np.array([1, 1])\n",
    "dir1_b = np.array([1, 1])\n",
    "\n",
    "pos2_b = np.array([2, 3])\n",
    "dir2_b = np.array([2, 2])\n",
    "\n",
    "full_example(\"Case (b)\", pos1_b, dir1_b, pos2_b, dir2_b)"
   ]
  },
  {
   "cell_type": "code",
   "execution_count": null,
   "metadata": {},
   "outputs": [],
   "source": [
    "# Case (c): Two vectors intersect before their original positions\n",
    "pos1_c = np.array([1, 1])\n",
    "dir1_c = np.array([1, 1])\n",
    "\n",
    "pos2_c = np.array([2, 3])\n",
    "dir2_c = np.array([1, 2])\n",
    "\n",
    "full_example(\"Case (c)\", pos1_c, dir1_c, pos2_c, dir2_c)"
   ]
  },
  {
   "cell_type": "code",
   "execution_count": null,
   "metadata": {},
   "outputs": [],
   "source": [
    "# Case (d): Two vectors intersect before their original positions\n",
    "pos1_d = np.array([1, 1])\n",
    "dir1_d = np.array([1, 1])\n",
    "\n",
    "pos2_d = np.array([2, 3])\n",
    "dir2_d = np.array([2, 1])\n",
    "\n",
    "full_example(\"Case (d)\", pos1_d, dir1_d, pos2_d, dir2_d)"
   ]
  },
  {
   "cell_type": "code",
   "execution_count": null,
   "metadata": {},
   "outputs": [],
   "source": [
    "# Test with random vectors\n",
    "for i in range(10):\n",
    "\n",
    "    pos1 = generate_random_vector()\n",
    "    dir1 = generate_random_vector()\n",
    "    pos2 = generate_random_vector()\n",
    "    dir2 = generate_random_vector()\n",
    "\n",
    "    full_example(i, pos1, dir1, pos2, dir2)"
   ]
  }
 ],
 "metadata": {
  "kernelspec": {
   "display_name": "Python 3",
   "language": "python",
   "name": "python3"
  },
  "language_info": {
   "codemirror_mode": {
    "name": "ipython",
    "version": 3
   },
   "file_extension": ".py",
   "mimetype": "text/x-python",
   "name": "python",
   "nbconvert_exporter": "python",
   "pygments_lexer": "ipython3",
   "version": "3.8.10"
  }
 },
 "nbformat": 4,
 "nbformat_minor": 2
}
