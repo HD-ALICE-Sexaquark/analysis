{
 "cells": [
  {
   "cell_type": "code",
   "execution_count": null,
   "metadata": {},
   "outputs": [],
   "source": [
    "import uproot\n",
    "import numpy as np\n",
    "import matplotlib.pyplot as plt\n",
    "\n",
    "import Style as style"
   ]
  },
  {
   "cell_type": "code",
   "execution_count": null,
   "metadata": {},
   "outputs": [],
   "source": [
    "# open a root file and make an array of all TH1F within a TList\n",
    "# filename = \"../sexaquark/output_sig_A1.8/merged_cut_on_DCA.root\"\n",
    "# filename = \"../sexaquark/output_sig_A1.8/merged_cut_on_DCAxy.root\"\n",
    "filename = \"../sexaquark/output_sig_A1.8/merged_cut_on_DCAxy_narrow_chi2.root\"\n",
    "file = uproot.open(filename)\n",
    "histograms = file[\"Hists/\"]\n",
    "\n",
    "# map names to histograms\n",
    "hist_dict = {hist.name: hist for hist in histograms}"
   ]
  },
  {
   "cell_type": "code",
   "execution_count": null,
   "metadata": {},
   "outputs": [],
   "source": [
    "def plot(stage_name, particle_name, var_name):\n",
    "    sets = []\n",
    "    if particle_name == \"AntiSexaquark\":\n",
    "        sets = [\"All\", \"Signal\"]\n",
    "    else:\n",
    "        sets = [\"All\", \"True\", \"Secondary\", \"Signal\"]\n",
    "    plt.figure(figsize=(4 * (1 + len(sets)), 4))\n",
    "\n",
    "    # part 1: all histograms overlayed\n",
    "    plt.subplot(1, 1 + len(sets), 1)\n",
    "\n",
    "    max_y=0\n",
    "    for set_name, color in zip(sets, style.colors):\n",
    "        hist_name = f\"{stage_name}_{set_name}_{particle_name}_{var_name}\"\n",
    "        values, edges = hist_dict[hist_name].to_numpy()\n",
    "\n",
    "        label_name = hist_name.replace(\"AntiLambda\", \"AL\").replace(\"KaonZeroShort\", \"K0S\")\n",
    "        plt.hist(edges[:-1], edges, weights=values, alpha=0.4, color=color, label=label_name)\n",
    "        if np.max(values) > max_y:\n",
    "            max_y = np.max(values)\n",
    "\n",
    "    plt.ylim(top=1.2*max_y)\n",
    "    plt.legend(fontsize='small')\n",
    "\n",
    "    # part 2: one plot per histogram\n",
    "    for i, set_name, color in zip(range(1, 1 + len(sets)), sets, style.colors):\n",
    "        hist_name = f\"{stage_name}_{set_name}_{particle_name}_{var_name}\"\n",
    "        values, edges = hist_dict[hist_name].to_numpy()\n",
    "        plt.subplot(1, 1 + len(sets), i + 1)\n",
    "\n",
    "        label_name = hist_name.replace(\"AntiLambda\", \"AL\").replace(\"KaonZeroShort\", \"K0S\")\n",
    "        plt.hist(edges[:-1], edges, weights=values, alpha=0.4, color=color, label=label_name)\n",
    "\n",
    "        if np.sum(values) == 0.:\n",
    "            break\n",
    "\n",
    "        avg = np.average(edges[:-1], weights=values)\n",
    "        n_entries = np.sum(values)\n",
    "        first_bin = np.where(values > 0)[0][0]\n",
    "        last_bin = np.where(values > 0)[0][-1]\n",
    "        stats = f\"Entries: {n_entries:.0f}\\nAverage: {avg:.2f}\\nMin. {var_name}: {edges[first_bin]:.2f}\\nMax. {var_name}: {edges[last_bin+1]:.2f}\"\n",
    "        plt.hist(edges[:-1], edges, alpha=0., label=stats) # invisible histogram to show stats on the legend\n",
    "\n",
    "        plt.ylim(top=1.2*np.max(values))\n",
    "\n",
    "        plt.legend(fontsize='small')\n",
    "\n",
    "    plt.tight_layout()\n",
    "\n",
    "    plt.show()"
   ]
  },
  {
   "cell_type": "markdown",
   "metadata": {},
   "source": [
    "### Reconstructed Tracks"
   ]
  },
  {
   "cell_type": "code",
   "execution_count": null,
   "metadata": {},
   "outputs": [],
   "source": [
    "# plot(\"Found\", \"AntiProton\", \"Pt\")\n",
    "# plot(\"Found\", \"AntiProton\", \"Pz\")\n",
    "# plot(\"Found\", \"AntiProton\", \"Eta\")\n",
    "# plot(\"Found\", \"AntiProton\", \"DCA_wrtPV\")\n",
    "plot(\"Found\", \"AntiProton\", \"DCAxy_wrtPV\")\n",
    "# plot(\"Found\", \"AntiProton\", \"DCAz_wrtPV\")\n",
    "# plot(\"Found\", \"AntiProton\", \"NTPCClusters\")\n",
    "# plot(\"Found\", \"AntiProton\", \"Chi2/NCls\")\n",
    "# plot(\"Found\", \"AntiProton\", \"NSigmaProton\")\n",
    "# plot(\"Found\", \"AntiProton\", \"NSigmaKaon\")\n",
    "# plot(\"Found\", \"AntiProton\", \"NSigmaPion\")\n",
    "# plot(\"Found\", \"AntiProton\", \"Status\")"
   ]
  },
  {
   "cell_type": "code",
   "execution_count": null,
   "metadata": {},
   "outputs": [],
   "source": [
    "# plot(\"Found\", \"PiPlus\", \"Pt\")\n",
    "# plot(\"Found\", \"PiPlus\", \"Pz\")\n",
    "# plot(\"Found\", \"PiPlus\", \"Eta\")\n",
    "# plot(\"Found\", \"PiPlus\", \"DCA_wrtPV\")\n",
    "plot(\"Found\", \"PiPlus\", \"DCAxy_wrtPV\")\n",
    "# plot(\"Found\", \"PiPlus\", \"DCAz_wrtPV\")\n",
    "# plot(\"Found\", \"PiPlus\", \"NTPCClusters\")\n",
    "# plot(\"Found\", \"PiPlus\", \"Chi2/NCls\")\n",
    "# plot(\"Found\", \"PiPlus\", \"NSigmaProton\")\n",
    "# plot(\"Found\", \"PiPlus\", \"NSigmaKaon\")\n",
    "# plot(\"Found\", \"PiPlus\", \"NSigmaPion\")\n",
    "# plot(\"Found\", \"PiPlus\", \"Status\")"
   ]
  },
  {
   "cell_type": "code",
   "execution_count": null,
   "metadata": {},
   "outputs": [],
   "source": [
    "# plot(\"Found\", \"PiMinus\", \"Pt\")\n",
    "# plot(\"Found\", \"PiMinus\", \"Pz\")\n",
    "# plot(\"Found\", \"PiMinus\", \"Eta\")\n",
    "# plot(\"Found\", \"PiMinus\", \"DCA_wrtPV\")\n",
    "plot(\"Found\", \"PiMinus\", \"DCAxy_wrtPV\")\n",
    "# plot(\"Found\", \"PiMinus\", \"DCAz_wrtPV\")\n",
    "# plot(\"Found\", \"PiMinus\", \"NTPCClusters\")\n",
    "# plot(\"Found\", \"PiMinus\", \"Chi2/NCls\")\n",
    "# plot(\"Found\", \"PiMinus\", \"NSigmaProton\")\n",
    "# plot(\"Found\", \"PiMinus\", \"NSigmaKaon\")\n",
    "# plot(\"Found\", \"PiMinus\", \"NSigmaPion\")\n",
    "# plot(\"Found\", \"PiMinus\", \"Status\")"
   ]
  },
  {
   "cell_type": "markdown",
   "metadata": {},
   "source": [
    "### V0s"
   ]
  },
  {
   "cell_type": "code",
   "execution_count": null,
   "metadata": {},
   "outputs": [],
   "source": [
    "plot(\"Found\", \"AntiLambda\", \"Mass\")\n",
    "# plot(\"Found\", \"AntiLambda\", \"Radius\")\n",
    "# plot(\"Found\", \"AntiLambda\", \"CPAwrtPV\")\n",
    "# plot(\"Found\", \"AntiLambda\", \"DCAwrtPV\")\n",
    "# plot(\"Found\", \"AntiLambda\", \"DCAbtwDau\")\n",
    "# plot(\"Found\", \"AntiLambda\", \"DCAnegV0\")\n",
    "# plot(\"Found\", \"AntiLambda\", \"DCAposV0\")\n",
    "# plot(\"Found\", \"AntiLambda\", \"DecayLength\")\n",
    "# plot(\"Found\", \"AntiLambda\", \"Zv\")\n",
    "# plot(\"Found\", \"AntiLambda\", \"Eta\")\n",
    "# plot(\"Found\", \"AntiLambda\", \"Pt\")\n",
    "# plot(\"Found\", \"AntiLambda\", \"Pz\")\n",
    "# plot(\"Found\", \"AntiLambda\", \"ArmQt\")\n",
    "# plot(\"Found\", \"AntiLambda\", \"ArmAlpha\")\n",
    "# plot(\"Found\", \"AntiLambda\", \"OpeningAngle\")\n",
    "# if not filename.count(\"kalmanV0s\"):\n",
    "    # plot(\"Found\", \"AntiLambda\", \"Chi2\")\n",
    "    # plot(\"Found\", \"AntiLambda\", \"ImprvDCAbtwDau\")\n",
    "# else:\n",
    "# plot(\"Found\", \"AntiLambda\", \"Chi2ndf\")"
   ]
  },
  {
   "cell_type": "code",
   "execution_count": null,
   "metadata": {},
   "outputs": [],
   "source": [
    "plot(\"Found\", \"KaonZeroShort\", \"Mass\")\n",
    "# plot(\"Found\", \"KaonZeroShort\", \"Radius\")\n",
    "# plot(\"Found\", \"KaonZeroShort\", \"CPAwrtPV\")\n",
    "# plot(\"Found\", \"KaonZeroShort\", \"DCAwrtPV\")\n",
    "# plot(\"Found\", \"KaonZeroShort\", \"DCAbtwDau\")\n",
    "# plot(\"Found\", \"KaonZeroShort\", \"DCAnegV0\")\n",
    "# plot(\"Found\", \"KaonZeroShort\", \"DCAposV0\")\n",
    "# plot(\"Found\", \"KaonZeroShort\", \"DecayLength\")\n",
    "# plot(\"Found\", \"KaonZeroShort\", \"Zv\")\n",
    "# plot(\"Found\", \"KaonZeroShort\", \"Eta\")\n",
    "# plot(\"Found\", \"KaonZeroShort\", \"Pt\")\n",
    "# plot(\"Found\", \"KaonZeroShort\", \"Pz\")\n",
    "# plot(\"Found\", \"KaonZeroShort\", \"ArmQt\")\n",
    "# plot(\"Found\", \"KaonZeroShort\", \"ArmAlpha\")\n",
    "# plot(\"Found\", \"KaonZeroShort\", \"OpeningAngle\")\n",
    "# if not filename.count(\"kalmanV0s\"):\n",
    "    # plot(\"Found\", \"KaonZeroShort\", \"Chi2\")\n",
    "    # plot(\"Found\", \"KaonZeroShort\", \"ImprvDCAbtwDau\")\n",
    "# else:\n",
    "# plot(\"Found\", \"KaonZeroShort\", \"Chi2ndf\")"
   ]
  },
  {
   "cell_type": "markdown",
   "metadata": {},
   "source": [
    "### Anti-Sexaquark Candidates"
   ]
  },
  {
   "cell_type": "code",
   "execution_count": null,
   "metadata": {},
   "outputs": [],
   "source": [
    "plot(\"Found\", \"AntiSexaquark\", \"Mass\")\n",
    "# plot(\"Found\", \"AntiSexaquark\", \"Pt\")\n",
    "# # plot(\"Found\", \"AntiSexaquark\", \"Px\")\n",
    "# # plot(\"Found\", \"AntiSexaquark\", \"Py\")\n",
    "# plot(\"Found\", \"AntiSexaquark\", \"Pz\")\n",
    "# # plot(\"Found\", \"AntiSexaquark\", \"Phi\")\n",
    "# plot(\"Found\", \"AntiSexaquark\", \"Radius\")\n",
    "# plot(\"Found\", \"AntiSexaquark\", \"Zv\")\n",
    "# plot(\"Found\", \"AntiSexaquark\", \"DecayLength\")\n",
    "# plot(\"Found\", \"AntiSexaquark\", \"Eta\")\n",
    "# plot(\"Found\", \"AntiSexaquark\", \"Rapidity\")\n",
    "# plot(\"Found\", \"AntiSexaquark\", \"CPAwrtPV\")\n",
    "# plot(\"Found\", \"AntiSexaquark\", \"DCAwrtPV\")\n",
    "# if filename.count(\"A1.8\"):\n",
    "    # plot(\"Found\", \"AntiSexaquark\", \"DCAbtwV0s\")\n",
    "    # plot(\"Found\", \"AntiSexaquark\", \"DCAv0aSV\")\n",
    "    # plot(\"Found\", \"AntiSexaquark\", \"DCAv0bSV\")\n",
    "    # plot(\"Found\", \"AntiSexaquark\", \"DCAv0anegSV\")\n",
    "    # plot(\"Found\", \"AntiSexaquark\", \"DCAv0aposSV\")\n",
    "    # plot(\"Found\", \"AntiSexaquark\", \"DCAv0bnegSV\")\n",
    "    # plot(\"Found\", \"AntiSexaquark\", \"DCAv0bposSV\")\n",
    "# elif filename.count(\"D1.8\"):\n",
    "    # plot(\"Found\", \"AntiSexaquark\", \"DCAv0ba\")\n",
    "    # plot(\"Found\", \"AntiSexaquark\", \"DCAv0SV\")\n",
    "    # plot(\"Found\", \"AntiSexaquark\", \"DCAbaSV\")\n",
    "    # plot(\"Found\", \"AntiSexaquark\", \"DCAv0negSV\")\n",
    "    # plot(\"Found\", \"AntiSexaquark\", \"DCAv0posSV\")\n",
    "# if filename.count(\"kalmanV0s\"):\n",
    "# plot(\"Found\", \"AntiSexaquark\", \"Chi2ndf\")"
   ]
  }
 ],
 "metadata": {
  "kernelspec": {
   "display_name": "Python 3",
   "language": "python",
   "name": "python3"
  },
  "language_info": {
   "codemirror_mode": {
    "name": "ipython",
    "version": 3
   },
   "file_extension": ".py",
   "mimetype": "text/x-python",
   "name": "python",
   "nbconvert_exporter": "python",
   "pygments_lexer": "ipython3",
   "version": "3.10.12"
  }
 },
 "nbformat": 4,
 "nbformat_minor": 2
}
