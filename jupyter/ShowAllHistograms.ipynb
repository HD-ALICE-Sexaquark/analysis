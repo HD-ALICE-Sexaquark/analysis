{
 "cells": [
  {
   "cell_type": "code",
   "execution_count": null,
   "metadata": {},
   "outputs": [],
   "source": [
    "import uproot\n",
    "import numpy as np\n",
    "import matplotlib.pyplot as plt"
   ]
  },
  {
   "cell_type": "code",
   "execution_count": null,
   "metadata": {},
   "outputs": [],
   "source": [
    "# open a root file and make an array of all TH1F within a TList\n",
    "file = uproot.open(\"../sexaquark/test/AnalysisResults_kalmanV0s.root\")\n",
    "histograms = file[\"Hists/\"]\n",
    "\n",
    "# map names to histograms\n",
    "hist_dict = {hist.name: hist for hist in histograms}\n",
    "\n",
    "colors = plt.rcParams['axes.prop_cycle'].by_key()['color']\n"
   ]
  },
  {
   "cell_type": "code",
   "execution_count": null,
   "metadata": {},
   "outputs": [],
   "source": [
    "def plot(stage_name, particle_name, var_name):\n",
    "\n",
    "    plt.figure(figsize=(20,4))\n",
    "\n",
    "    # part 1: all histograms overlayed\n",
    "    plt.subplot(1,5,1)\n",
    "    sets = [\"All\", \"True\", \"Secondary\", \"Signal\"]\n",
    "\n",
    "    max_y=0\n",
    "\n",
    "    for set_name, color in zip(sets, colors):\n",
    "        hist_name = f\"{stage_name}_{set_name}_{particle_name}_{var_name}\"\n",
    "        values, edges = hist_dict[hist_name].to_numpy()\n",
    "        plt.hist(edges[:-1], edges, weights=values, alpha=0.4, color=color, label=hist_name)\n",
    "        if np.max(values) > max_y:\n",
    "            max_y = np.max(values)\n",
    "\n",
    "    plt.ylim(top=1.2*max_y)\n",
    "    plt.legend(fontsize='small')\n",
    "\n",
    "    # part 2: one plot per histogram\n",
    "    for i, set_name, color in zip(range(1,5), sets, colors):\n",
    "        hist_name = f\"{stage_name}_{set_name}_{particle_name}_{var_name}\"\n",
    "        values, edges = hist_dict[hist_name].to_numpy()\n",
    "        plt.subplot(1,5,i+1)\n",
    "\n",
    "        avg = np.average(edges[:-1], weights=values)\n",
    "        n_entries = np.sum(values)\n",
    "        first_bin = np.where(values > 0)[0][0]\n",
    "        last_bin = np.where(values > 0)[0][-1]\n",
    "        stats = f\"Entries: {n_entries:.0f}\\nAverage: {avg:.2f}\\nMin. {var_name}: {edges[first_bin]:.2f}\\nMax. {var_name}: {edges[last_bin+1]:.2f}\"\n",
    "\n",
    "        plt.hist(edges[:-1], edges, weights=values, alpha=0.4, color=color, label=hist_name)\n",
    "        plt.hist(edges[:-1], edges, alpha=0., label=stats) # invisible histogram to show stats on the legend\n",
    "\n",
    "        plt.ylim(top=1.2*np.max(values))\n",
    "\n",
    "        plt.legend(fontsize='small')\n",
    "\n",
    "    plt.tight_layout()\n",
    "\n",
    "    plt.show()"
   ]
  },
  {
   "cell_type": "code",
   "execution_count": null,
   "metadata": {},
   "outputs": [],
   "source": [
    "plot(\"Found\", \"AntiLambda\", \"Mass\")\n",
    "plot(\"Found\", \"AntiLambda\", \"Radius\")\n",
    "plot(\"Found\", \"AntiLambda\", \"CPAwrtPV\")\n",
    "plot(\"Found\", \"AntiLambda\", \"DCAwrtPV\")\n",
    "plot(\"Found\", \"AntiLambda\", \"DCAbtwDau\")\n",
    "plot(\"Found\", \"AntiLambda\", \"DCAnegV0\")\n",
    "plot(\"Found\", \"AntiLambda\", \"DCAposV0\")\n",
    "plot(\"Found\", \"AntiLambda\", \"DCAnegPV\")\n",
    "plot(\"Found\", \"AntiLambda\", \"DCAposPV\")\n",
    "plot(\"Found\", \"AntiLambda\", \"DecayLength\")\n",
    "plot(\"Found\", \"AntiLambda\", \"Zv\")\n",
    "plot(\"Found\", \"AntiLambda\", \"Eta\")\n",
    "plot(\"Found\", \"AntiLambda\", \"Pt\")\n",
    "plot(\"Found\", \"AntiLambda\", \"Pz\")\n",
    "plot(\"Found\", \"AntiLambda\", \"ArmQt\")\n",
    "plot(\"Found\", \"AntiLambda\", \"ArmAlpha\")\n",
    "plot(\"Found\", \"AntiLambda\", \"Chi2ndf\")"
   ]
  },
  {
   "cell_type": "code",
   "execution_count": null,
   "metadata": {},
   "outputs": [],
   "source": [
    "plot(\"Found\", \"KaonZeroShort\", \"Mass\")\n",
    "plot(\"Found\", \"KaonZeroShort\", \"Radius\")\n",
    "plot(\"Found\", \"KaonZeroShort\", \"CPAwrtPV\")\n",
    "plot(\"Found\", \"KaonZeroShort\", \"DCAwrtPV\")\n",
    "plot(\"Found\", \"KaonZeroShort\", \"DCAbtwDau\")\n",
    "plot(\"Found\", \"KaonZeroShort\", \"DCAnegV0\")\n",
    "plot(\"Found\", \"KaonZeroShort\", \"DCAposV0\")\n",
    "plot(\"Found\", \"KaonZeroShort\", \"DCAnegPV\")\n",
    "plot(\"Found\", \"KaonZeroShort\", \"DCAposPV\")\n",
    "plot(\"Found\", \"KaonZeroShort\", \"DecayLength\")\n",
    "plot(\"Found\", \"KaonZeroShort\", \"Zv\")\n",
    "plot(\"Found\", \"KaonZeroShort\", \"Eta\")\n",
    "plot(\"Found\", \"KaonZeroShort\", \"Pt\")\n",
    "plot(\"Found\", \"KaonZeroShort\", \"Pz\")\n",
    "plot(\"Found\", \"KaonZeroShort\", \"ArmQt\")\n",
    "plot(\"Found\", \"KaonZeroShort\", \"ArmAlpha\")\n",
    "plot(\"Found\", \"KaonZeroShort\", \"Chi2ndf\")"
   ]
  }
 ],
 "metadata": {
  "kernelspec": {
   "display_name": "Python 3",
   "language": "python",
   "name": "python3"
  },
  "language_info": {
   "codemirror_mode": {
    "name": "ipython",
    "version": 3
   },
   "file_extension": ".py",
   "mimetype": "text/x-python",
   "name": "python",
   "nbconvert_exporter": "python",
   "pygments_lexer": "ipython3",
   "version": "3.8.10"
  }
 },
 "nbformat": 4,
 "nbformat_minor": 2
}
