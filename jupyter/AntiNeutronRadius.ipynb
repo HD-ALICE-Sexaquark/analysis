{
 "cells": [
  {
   "cell_type": "code",
   "execution_count": null,
   "metadata": {},
   "outputs": [],
   "source": [
    "import uproot\n",
    "import numpy as np\n",
    "import matplotlib.pyplot as plt\n",
    "\n",
    "colors = plt.rcParams['axes.prop_cycle'].by_key()['color']"
   ]
  },
  {
   "cell_type": "code",
   "execution_count": null,
   "metadata": {},
   "outputs": [],
   "source": [
    "# open file\n",
    "filename = \"../anti-neutron/test/AnalysisResults.root\"\n",
    "file = uproot.open(filename)\n",
    "histograms = file[\"Hists/\"]\n",
    "\n",
    "# map names to histograms\n",
    "hist_dict = {hist.name: hist for hist in histograms}\n",
    "\n",
    "colors = plt.rcParams['axes.prop_cycle'].by_key()['color']\n",
    "\n",
    "plt.figure(figsize=(6, 6))\n",
    "\n",
    "hist_name = f\"Signal_AntiNeutron_Radius\"\n",
    "values, edges = hist_dict[hist_name].to_numpy()\n",
    "label_name = r\"MC Gen. $\\bar{n}$\"\n",
    "plt.hist(edges[:-1], edges, weights=values, alpha=0.4, color=colors[7], label=label_name)\n",
    "\n",
    "# invisible histogram to show stats on the legend\n",
    "n_entries = np.sum(values)\n",
    "stats = f\"Entries = {n_entries:.0f}\"\n",
    "plt.hist(edges[:-1], edges, alpha=0., label=stats)\n",
    "plt.legend(fontsize=12)\n",
    "\n",
    "plt.yscale('log')\n",
    "plt.ylabel(\"Counts\", loc='top', fontsize=12, fontweight='bold')\n",
    "\n",
    "plt.xlabel(\"Interaction Radius (cm)\", loc='right', fontsize=12, fontweight='bold')\n",
    "\n",
    "plt.tick_params(direction='in', top=True, right=True)\n",
    "\n",
    "plt.tight_layout()\n",
    "plt.savefig(\"AntiNeutronRadius.svg\")\n",
    "plt.show()"
   ]
  }
 ],
 "metadata": {
  "kernelspec": {
   "display_name": "env",
   "language": "python",
   "name": "python3"
  },
  "language_info": {
   "codemirror_mode": {
    "name": "ipython",
    "version": 3
   },
   "file_extension": ".py",
   "mimetype": "text/x-python",
   "name": "python",
   "nbconvert_exporter": "python",
   "pygments_lexer": "ipython3",
   "version": "3.8.10"
  }
 },
 "nbformat": 4,
 "nbformat_minor": 2
}
