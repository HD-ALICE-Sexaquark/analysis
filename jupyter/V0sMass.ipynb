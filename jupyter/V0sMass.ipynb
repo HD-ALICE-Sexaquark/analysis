{
 "cells": [
  {
   "cell_type": "code",
   "execution_count": null,
   "metadata": {},
   "outputs": [],
   "source": [
    "import uproot\n",
    "import numpy as np\n",
    "import matplotlib.pyplot as plt\n",
    "\n",
    "colors = plt.rcParams['axes.prop_cycle'].by_key()['color']"
   ]
  },
  {
   "cell_type": "code",
   "execution_count": null,
   "metadata": {},
   "outputs": [],
   "source": [
    "# open file\n",
    "# filename = \"../sexaquark/test_sig/AnalysisResults_A1.8_customV0s.root\"\n",
    "filename = \"../sexaquark/test_sig/AnalysisResults_A1.8_kalmanV0s.root\"\n",
    "file = uproot.open(filename)\n",
    "histograms = file[\"Hists/\"]\n",
    "\n",
    "# map names to histograms\n",
    "hist_dict = {hist.name: hist for hist in histograms}\n",
    "\n",
    "colors = plt.rcParams['axes.prop_cycle'].by_key()['color']\n",
    "\n",
    "particles = [\"AntiLambda\", \"KaonZeroShort\"]\n",
    "hist_titles = [r\"$\\bar{\\Lambda}\\rightarrow\\bar{p}\\pi^{+}$\", r\"$K_S^0\\rightarrow\\pi^{-}\\pi^{+}$\"]\n",
    "x_titles = [r\"$m_{\\bar{p}\\pi^{+}}$ GeV/$c^{2}$\", r\"$m_{\\pi^{-}\\pi^{+}}$ GeV/$c^{2}$\"]\n",
    "plt.figure(figsize=(6, 6 * len(particles)))\n",
    "\n",
    "for i, particle_name, hist_title, x_title in zip(range(1, 1 + len(particles)), particles, hist_titles, x_titles):\n",
    "\n",
    "    ax = plt.subplot( 1 + len(particles), 1, i + 1)\n",
    "\n",
    "    ## all\n",
    "    hist_name = f\"Found_All_{particle_name}_Mass\"\n",
    "    values, edges = hist_dict[hist_name].to_numpy()\n",
    "    # invisible hist to show title\n",
    "    ax.hist(edges[:-1], edges, weights=values, alpha=0., label=hist_title)\n",
    "    label_name = \"Signal+Bkg\"\n",
    "    ax.hist(edges[:-1], edges, weights=values, alpha=0.4, color=colors[1], label=label_name)\n",
    "\n",
    "    # invisible histogram to show stats on the legend\n",
    "    n_entries = np.sum(values)\n",
    "    first_bin = np.where(values > 0)[0][0]\n",
    "    last_bin = np.where(values > 0)[0][-1]\n",
    "    stats = f\"N(S+B) = {n_entries:.0f}\"\n",
    "    ax.hist(edges[:-1], edges, alpha=0., label=stats)\n",
    "\n",
    "    ## signal\n",
    "    hist_name = f\"Found_Signal_{particle_name}_Mass\"\n",
    "    values, edges = hist_dict[hist_name].to_numpy()\n",
    "    label_name = \"Signal\"\n",
    "    ax.hist(edges[:-1], edges, weights=values, alpha=0.4, color=colors[4], label=label_name)\n",
    "\n",
    "    # invisible histogram to show stats on the legend\n",
    "    n_entries = np.sum(values)\n",
    "    first_bin = np.where(values > 0)[0][0]\n",
    "    last_bin = np.where(values > 0)[0][-1]\n",
    "    stats = f\"N(S) = {n_entries:.0f}\"\n",
    "    ax.hist(edges[:-1], edges, alpha=0., label=stats) # invisible histogram to show stats on the legend\n",
    "\n",
    "    ax.set_ylabel(\"Counts\", loc='top', fontsize=12, fontweight='bold')\n",
    "    ax.set_ylim(top=1.2*np.max(values))\n",
    "\n",
    "    ax.set_xlabel(x_title, loc='right', fontsize=12)\n",
    "    ax.tick_params(direction='in', top=True, right=True)\n",
    "\n",
    "    plt.legend(fontsize=12)\n",
    "\n",
    "plt.tight_layout()\n",
    "plt.savefig(\"V0sMass.svg\")\n",
    "plt.show()"
   ]
  }
 ],
 "metadata": {
  "kernelspec": {
   "display_name": "env",
   "language": "python",
   "name": "python3"
  },
  "language_info": {
   "codemirror_mode": {
    "name": "ipython",
    "version": 3
   },
   "file_extension": ".py",
   "mimetype": "text/x-python",
   "name": "python",
   "nbconvert_exporter": "python",
   "pygments_lexer": "ipython3",
   "version": "3.8.10"
  }
 },
 "nbformat": 4,
 "nbformat_minor": 2
}
