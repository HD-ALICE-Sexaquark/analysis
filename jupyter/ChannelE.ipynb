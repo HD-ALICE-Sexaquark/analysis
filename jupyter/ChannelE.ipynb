{
 "cells": [
  {
   "cell_type": "code",
   "execution_count": null,
   "metadata": {},
   "outputs": [],
   "source": [
    "import uproot\n",
    "import numpy as np\n",
    "import matplotlib.pyplot as plt"
   ]
  },
  {
   "cell_type": "code",
   "execution_count": null,
   "metadata": {},
   "outputs": [],
   "source": [
    "# open a root file and make an array of all TH1F within a TList\n",
    "# filename = \"../sexaquark/test_sig/AnalysisResults_E1.8_297595_001_kalmanV0s.root\"\n",
    "# filename = \"../sexaquark/test_sig/AnalysisResults_E1.8_kalmanV0s.root\"\n",
    "filename = \"../sexaquark/test_sig_parallel/AnalysisResults_merged.root\"\n",
    "file = uproot.open(filename)\n",
    "histograms = file[\"Hists/\"]\n",
    "\n",
    "# map names to histograms\n",
    "hist_dict = {hist.name: hist for hist in histograms}\n",
    "\n",
    "colors = plt.rcParams['axes.prop_cycle'].by_key()['color']"
   ]
  },
  {
   "cell_type": "code",
   "execution_count": null,
   "metadata": {},
   "outputs": [],
   "source": [
    "def plot(stage_name, particle_name, var_name):\n",
    "    sets = []\n",
    "    if particle_name == \"AntiSexaquark\" or particle_name == \"PionPair\":\n",
    "        sets = [\"All\", \"Signal\"]\n",
    "    else:\n",
    "        sets = [\"All\", \"True\", \"Secondary\", \"Signal\"]\n",
    "    plt.figure(figsize=(4 * (1 + len(sets)), 4))\n",
    "\n",
    "    # part 1: all histograms overlayed\n",
    "    plt.subplot(1, 1 + len(sets), 1)\n",
    "\n",
    "    max_y=0\n",
    "    for set_name, color in zip(sets, colors):\n",
    "        hist_name = f\"{stage_name}_{set_name}_{particle_name}_{var_name}\"\n",
    "        values, edges = hist_dict[hist_name].to_numpy()\n",
    "\n",
    "        label_name = hist_name.replace(\"AntiLambda\", \"AL\").replace(\"PionPair\", \"PP\")\n",
    "        plt.hist(edges[:-1], edges, weights=values, alpha=0.4, color=color, label=label_name)\n",
    "        if np.max(values) > max_y:\n",
    "            max_y = np.max(values)\n",
    "\n",
    "    plt.ylim(top=1.2*max_y)\n",
    "    plt.legend(fontsize='small')\n",
    "\n",
    "    # part 2: one plot per histogram\n",
    "    for i, set_name, color in zip(range(1, 1 + len(sets)), sets, colors):\n",
    "        hist_name = f\"{stage_name}_{set_name}_{particle_name}_{var_name}\"\n",
    "        values, edges = hist_dict[hist_name].to_numpy()\n",
    "        plt.subplot(1, 1 + len(sets), i + 1)\n",
    "\n",
    "        label_name = hist_name.replace(\"AntiLambda\", \"AL\").replace(\"PionPair\", \"PP\")\n",
    "        plt.hist(edges[:-1], edges, weights=values, alpha=0.4, color=color, label=label_name)\n",
    "\n",
    "        if np.sum(values) == 0.:\n",
    "            break\n",
    "\n",
    "        avg = np.average(edges[:-1], weights=values)\n",
    "        n_entries = np.sum(values)\n",
    "        first_bin = np.where(values > 0)[0][0]\n",
    "        last_bin = np.where(values > 0)[0][-1]\n",
    "        stats = f\"Entries: {n_entries:.0f}\\nAverage: {avg:.2f}\\nMin. {var_name}: {edges[first_bin]:.2f}\\nMax. {var_name}: {edges[last_bin+1]:.2f}\"\n",
    "        plt.hist(edges[:-1], edges, alpha=0., label=stats) # invisible histogram to show stats on the legend\n",
    "\n",
    "        plt.ylim(top=1.2*np.max(values))\n",
    "\n",
    "        plt.legend(fontsize='small')\n",
    "\n",
    "    plt.tight_layout()\n",
    "\n",
    "    plt.show()"
   ]
  },
  {
   "cell_type": "markdown",
   "metadata": {},
   "source": [
    "### Reconstructed Tracks"
   ]
  },
  {
   "cell_type": "code",
   "execution_count": null,
   "metadata": {},
   "outputs": [],
   "source": [
    "plot(\"Found\", \"AntiProton\", \"Pt\")\n",
    "plot(\"Found\", \"AntiProton\", \"Pz\")\n",
    "plot(\"Found\", \"AntiProton\", \"Eta\")\n",
    "plot(\"Found\", \"AntiProton\", \"DCAwrtPV\")\n",
    "plot(\"Found\", \"AntiProton\", \"NTPCClusters\")\n",
    "plot(\"Found\", \"AntiProton\", \"Chi2/NClusters\")\n",
    "plot(\"Found\", \"AntiProton\", \"NSigmaProton\")\n",
    "plot(\"Found\", \"AntiProton\", \"NSigmaKaon\")\n",
    "plot(\"Found\", \"AntiProton\", \"NSigmaPion\")\n",
    "plot(\"Found\", \"AntiProton\", \"Status\")\n",
    "plot(\"Found\", \"AntiProton\", \"GoldenChi2\")"
   ]
  },
  {
   "cell_type": "code",
   "execution_count": null,
   "metadata": {},
   "outputs": [],
   "source": [
    "plot(\"Found\", \"PosKaon\", \"Pt\")\n",
    "plot(\"Found\", \"PosKaon\", \"Pz\")\n",
    "plot(\"Found\", \"PosKaon\", \"Eta\")\n",
    "plot(\"Found\", \"PosKaon\", \"DCAwrtPV\")\n",
    "plot(\"Found\", \"PosKaon\", \"NTPCClusters\")\n",
    "plot(\"Found\", \"PosKaon\", \"Chi2/NClusters\")\n",
    "plot(\"Found\", \"PosKaon\", \"NSigmaProton\")\n",
    "plot(\"Found\", \"PosKaon\", \"NSigmaKaon\")\n",
    "plot(\"Found\", \"PosKaon\", \"NSigmaPion\")\n",
    "plot(\"Found\", \"PosKaon\", \"Status\")\n",
    "plot(\"Found\", \"PosKaon\", \"GoldenChi2\")"
   ]
  },
  {
   "cell_type": "code",
   "execution_count": null,
   "metadata": {},
   "outputs": [],
   "source": [
    "plot(\"Found\", \"PiPlus\", \"Pt\")\n",
    "plot(\"Found\", \"PiPlus\", \"Pz\")\n",
    "plot(\"Found\", \"PiPlus\", \"Eta\")\n",
    "plot(\"Found\", \"PiPlus\", \"DCAwrtPV\")\n",
    "plot(\"Found\", \"PiPlus\", \"NTPCClusters\")\n",
    "plot(\"Found\", \"PiPlus\", \"Chi2/NClusters\")\n",
    "plot(\"Found\", \"PiPlus\", \"NSigmaProton\")\n",
    "plot(\"Found\", \"PiPlus\", \"NSigmaKaon\")\n",
    "plot(\"Found\", \"PiPlus\", \"NSigmaPion\")\n",
    "plot(\"Found\", \"PiPlus\", \"Status\")\n",
    "plot(\"Found\", \"PiPlus\", \"GoldenChi2\")"
   ]
  },
  {
   "cell_type": "code",
   "execution_count": null,
   "metadata": {},
   "outputs": [],
   "source": [
    "plot(\"Found\", \"PiMinus\", \"Pt\")\n",
    "plot(\"Found\", \"PiMinus\", \"Pz\")\n",
    "plot(\"Found\", \"PiMinus\", \"Eta\")\n",
    "plot(\"Found\", \"PiMinus\", \"DCAwrtPV\")\n",
    "plot(\"Found\", \"PiMinus\", \"NTPCClusters\")\n",
    "plot(\"Found\", \"PiMinus\", \"Chi2/NClusters\")\n",
    "plot(\"Found\", \"PiMinus\", \"NSigmaProton\")\n",
    "plot(\"Found\", \"PiMinus\", \"NSigmaKaon\")\n",
    "plot(\"Found\", \"PiMinus\", \"NSigmaPion\")\n",
    "plot(\"Found\", \"PiMinus\", \"Status\")\n",
    "plot(\"Found\", \"PiMinus\", \"GoldenChi2\")"
   ]
  },
  {
   "cell_type": "markdown",
   "metadata": {},
   "source": [
    "### V0s"
   ]
  },
  {
   "cell_type": "code",
   "execution_count": null,
   "metadata": {},
   "outputs": [],
   "source": [
    "plot(\"Found\", \"AntiLambda\", \"Mass\")\n",
    "plot(\"Found\", \"AntiLambda\", \"Pt\")\n",
    "# plot(\"Found\", \"AntiLambda\", \"Px\")\n",
    "# plot(\"Found\", \"AntiLambda\", \"Py\")\n",
    "plot(\"Found\", \"AntiLambda\", \"Pz\")\n",
    "# plot(\"Found\", \"AntiLambda\", \"Phi\")\n",
    "plot(\"Found\", \"AntiLambda\", \"Radius\")\n",
    "# plot(\"Found\", \"AntiLambda\", \"Zv\")\n",
    "plot(\"Found\", \"AntiLambda\", \"Eta\")\n",
    "# plot(\"Found\", \"AntiLambda\", \"Rapidity\")\n",
    "plot(\"Found\", \"AntiLambda\", \"DecayLength\")\n",
    "plot(\"Found\", \"AntiLambda\", \"OpeningAngle\")\n",
    "plot(\"Found\", \"AntiLambda\", \"ArmQt\")\n",
    "plot(\"Found\", \"AntiLambda\", \"ArmAlpha\")\n",
    "plot(\"Found\", \"AntiLambda\", \"CPAwrtPV\")\n",
    "plot(\"Found\", \"AntiLambda\", \"DCAwrtPV\")\n",
    "plot(\"Found\", \"AntiLambda\", \"DCAbtwDau\")\n",
    "plot(\"Found\", \"AntiLambda\", \"DCAnegV0\")\n",
    "plot(\"Found\", \"AntiLambda\", \"DCAposV0\")\n",
    "# plot(\"Found\", \"AntiLambda\", \"Chi2\")\n",
    "plot(\"Found\", \"AntiLambda\", \"Chi2ndf\")"
   ]
  },
  {
   "cell_type": "code",
   "execution_count": null,
   "metadata": {},
   "outputs": [],
   "source": [
    "plot(\"Found\", \"PionPair\", \"Mass\")\n",
    "plot(\"Found\", \"PionPair\", \"Pt\")\n",
    "# plot(\"Found\", \"PionPair\", \"Px\")\n",
    "# plot(\"Found\", \"PionPair\", \"Py\")\n",
    "plot(\"Found\", \"PionPair\", \"Pz\")\n",
    "# plot(\"Found\", \"PionPair\", \"Phi\")\n",
    "plot(\"Found\", \"PionPair\", \"Radius\")\n",
    "plot(\"Found\", \"PionPair\", \"Zv\")\n",
    "plot(\"Found\", \"PionPair\", \"Eta\")\n",
    "# plot(\"Found\", \"PionPair\", \"Rapidity\")\n",
    "plot(\"Found\", \"PionPair\", \"DecayLength\")\n",
    "plot(\"Found\", \"PionPair\", \"OpeningAngle\")\n",
    "# plot(\"Found\", \"PionPair\", \"ArmQt\")\n",
    "# plot(\"Found\", \"PionPair\", \"ArmAlpha\")\n",
    "plot(\"Found\", \"PionPair\", \"CPAwrtPV\")\n",
    "plot(\"Found\", \"PionPair\", \"DCAwrtPV\")\n",
    "plot(\"Found\", \"PionPair\", \"DCAbtwDau\")\n",
    "plot(\"Found\", \"PionPair\", \"DCAnegV0\")\n",
    "plot(\"Found\", \"PionPair\", \"DCAposV0\")\n",
    "# plot(\"Found\", \"PionPair\", \"Chi2\")\n",
    "plot(\"Found\", \"PionPair\", \"Chi2ndf\")"
   ]
  },
  {
   "cell_type": "markdown",
   "metadata": {},
   "source": [
    "### Anti-Sexaquark Candidates"
   ]
  },
  {
   "cell_type": "code",
   "execution_count": null,
   "metadata": {},
   "outputs": [],
   "source": [
    "plot(\"Found\", \"AntiSexaquark\", \"Mass\")\n",
    "plot(\"Found\", \"AntiSexaquark\", \"Pt\")\n",
    "plot(\"Found\", \"AntiSexaquark\", \"Pz\")\n",
    "plot(\"Found\", \"AntiSexaquark\", \"Radius\")\n",
    "plot(\"Found\", \"AntiSexaquark\", \"Zv\")\n",
    "plot(\"Found\", \"AntiSexaquark\", \"DecayLength\")\n",
    "plot(\"Found\", \"AntiSexaquark\", \"Eta\")\n",
    "plot(\"Found\", \"AntiSexaquark\", \"Rapidity\")\n",
    "plot(\"Found\", \"AntiSexaquark\", \"CPAwrtPV\")\n",
    "plot(\"Found\", \"AntiSexaquark\", \"DCAwrtPV\")\n",
    "plot(\"Found\", \"AntiSexaquark\", \"DCAv0SV\")\n",
    "plot(\"Found\", \"AntiSexaquark\", \"DCAv0negSV\")\n",
    "plot(\"Found\", \"AntiSexaquark\", \"DCAv0posSV\")\n",
    "plot(\"Found\", \"AntiSexaquark\", \"DCApkSV\")\n",
    "plot(\"Found\", \"AntiSexaquark\", \"DCApmSV\")\n",
    "plot(\"Found\", \"AntiSexaquark\", \"DCAppSV\")\n",
    "plot(\"Found\", \"AntiSexaquark\", \"DCAv0pk\")\n",
    "plot(\"Found\", \"AntiSexaquark\", \"DCAv0pm\")\n",
    "plot(\"Found\", \"AntiSexaquark\", \"DCAv0pp\")\n",
    "plot(\"Found\", \"AntiSexaquark\", \"DCApkpm\")\n",
    "plot(\"Found\", \"AntiSexaquark\", \"DCApkpp\")\n",
    "plot(\"Found\", \"AntiSexaquark\", \"Chi2ndf\")"
   ]
  }
 ],
 "metadata": {
  "kernelspec": {
   "display_name": "Python 3",
   "language": "python",
   "name": "python3"
  },
  "language_info": {
   "codemirror_mode": {
    "name": "ipython",
    "version": 3
   },
   "file_extension": ".py",
   "mimetype": "text/x-python",
   "name": "python",
   "nbconvert_exporter": "python",
   "pygments_lexer": "ipython3",
   "version": "3.8.10"
  }
 },
 "nbformat": 4,
 "nbformat_minor": 2
}
